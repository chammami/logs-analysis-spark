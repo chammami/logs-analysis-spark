{
 "cells": [
  {
   "cell_type": "markdown",
   "metadata": {},
   "source": [
    "# Logs analysis - exploratory data analysis"
   ]
  },
  {
   "cell_type": "markdown",
   "metadata": {},
   "source": [
    "# Setup "
   ]
  },
  {
   "cell_type": "code",
   "execution_count": 64,
   "metadata": {
    "ExecuteTime": {
     "end_time": "2020-03-19T03:02:10.665340Z",
     "start_time": "2020-03-19T03:02:10.646867Z"
    }
   },
   "outputs": [],
   "source": [
    "# Data wrangling - Spark\n",
    "from pyspark.sql.functions import to_date, udf, col, asc, desc, regexp_extract, regexp_replace, to_date\n",
    "from pyspark.sql.types import IntegerType, TimestampType, BooleanType\n",
    "from pyspark.sql import functions as F\n",
    "from pyspark.sql import SparkSession\n",
    "\n",
    "\n",
    "# Data wrangling - Python\n",
    "import pandas as pd\n",
    "import re\n",
    "import numpy as np\n",
    "\n",
    "# Sys\n",
    "import gc\n",
    "import os\n",
    "from pathlib import Path\n",
    "import datetime as dt\n",
    "import pytz\n",
    "import shutil\n",
    "\n",
    "# Data Viz\n",
    "import seaborn as sns\n",
    "import matplotlib.pyplot as plt\n",
    "\n",
    "%matplotlib inline"
   ]
  },
  {
   "cell_type": "code",
   "execution_count": 7,
   "metadata": {
    "ExecuteTime": {
     "end_time": "2020-03-19T02:39:10.779405Z",
     "start_time": "2020-03-19T02:39:10.776326Z"
    }
   },
   "outputs": [],
   "source": [
    "ROOT_PATH = Path(\"..\")\n",
    "file_path = ROOT_PATH /\"data\"/\"processed\"/\"featurized_logs\""
   ]
  },
  {
   "cell_type": "code",
   "execution_count": 8,
   "metadata": {
    "ExecuteTime": {
     "end_time": "2020-03-19T02:39:11.378776Z",
     "start_time": "2020-03-19T02:39:11.373269Z"
    }
   },
   "outputs": [
    {
     "data": {
      "text/html": [
       "\n",
       "            <div>\n",
       "                <p><b>SparkSession - hive</b></p>\n",
       "                \n",
       "        <div>\n",
       "            <p><b>SparkContext</b></p>\n",
       "\n",
       "            <p><a href=\"http://192.168.1.14:4041\">Spark UI</a></p>\n",
       "\n",
       "            <dl>\n",
       "              <dt>Version</dt>\n",
       "                <dd><code>v2.4.5</code></dd>\n",
       "              <dt>Master</dt>\n",
       "                <dd><code>local[8]</code></dd>\n",
       "              <dt>AppName</dt>\n",
       "                <dd><code>PySparkShell</code></dd>\n",
       "            </dl>\n",
       "        </div>\n",
       "        \n",
       "            </div>\n",
       "        "
      ],
      "text/plain": [
       "<pyspark.sql.session.SparkSession at 0x7fa8d170b310>"
      ]
     },
     "execution_count": 8,
     "metadata": {},
     "output_type": "execute_result"
    }
   ],
   "source": [
    "spark"
   ]
  },
  {
   "cell_type": "code",
   "execution_count": 9,
   "metadata": {
    "ExecuteTime": {
     "end_time": "2020-03-19T02:39:14.501612Z",
     "start_time": "2020-03-19T02:39:12.079440Z"
    }
   },
   "outputs": [],
   "source": [
    "df = spark.read.parquet(file_path.__str__())"
   ]
  },
  {
   "cell_type": "markdown",
   "metadata": {},
   "source": [
    "# General overview"
   ]
  },
  {
   "cell_type": "code",
   "execution_count": 10,
   "metadata": {
    "ExecuteTime": {
     "end_time": "2020-03-19T02:39:19.655898Z",
     "start_time": "2020-03-19T02:39:17.150732Z"
    }
   },
   "outputs": [
    {
     "name": "stdout",
     "output_type": "stream",
     "text": [
      "root\n",
      " |-- ip_address: string (nullable = true)\n",
      " |-- request: string (nullable = true)\n",
      " |-- status_code: string (nullable = true)\n",
      " |-- size: integer (nullable = true)\n",
      " |-- referer: string (nullable = true)\n",
      " |-- user_agent: string (nullable = true)\n",
      " |-- datetime_utc: timestamp (nullable = true)\n",
      " |-- request_method: string (nullable = true)\n",
      " |-- request_uri: string (nullable = true)\n",
      " |-- http_version: string (nullable = true)\n",
      " |-- request_file: string (nullable = true)\n",
      " |-- browser_family: string (nullable = true)\n",
      " |-- browser_version_string: string (nullable = true)\n",
      " |-- os_family: string (nullable = true)\n",
      " |-- os_version_string: string (nullable = true)\n",
      " |-- device_family: string (nullable = true)\n",
      " |-- device_brand: string (nullable = true)\n",
      " |-- device_model: string (nullable = true)\n",
      " |-- is_mobile: boolean (nullable = true)\n",
      " |-- is_tablet: boolean (nullable = true)\n",
      " |-- is_touch_capable: boolean (nullable = true)\n",
      " |-- is_pc: boolean (nullable = true)\n",
      " |-- is_ua_bot: boolean (nullable = true)\n",
      " |-- is_cmd: boolean (nullable = true)\n",
      " |-- is_sql_cmd: integer (nullable = true)\n",
      " |-- request_id: long (nullable = true)\n",
      " |-- client_hash: string (nullable = true)\n",
      " |-- client_id: long (nullable = true)\n",
      "\n",
      "Dataset size: 5015806 rows and 28 column\n"
     ]
    }
   ],
   "source": [
    "df.printSchema()\n",
    "n,p = df.count(), len(df.columns)\n",
    "print(f\"Dataset size: {n} rows and {p} column\")"
   ]
  },
  {
   "cell_type": "code",
   "execution_count": 106,
   "metadata": {
    "ExecuteTime": {
     "end_time": "2020-03-19T03:22:20.933738Z",
     "start_time": "2020-03-19T03:22:17.825115Z"
    }
   },
   "outputs": [],
   "source": [
    "# requests time series\n",
    "request_ts = df.\\\n",
    "                select(\"datetime_utc\", \"request\", to_date(col(\"datetime_utc\")).alias(\"date\")).\\\n",
    "                sort(asc(\"date\")).\\\n",
    "                groupBy(\"date\").\\\n",
    "                count().\\\n",
    "                withColumnRenamed(\"count\",\"n_request\").\\\n",
    "                toPandas()\n",
    "y = pd.Series(request_ts.n_request.values, request_ts.date.values)"
   ]
  },
  {
   "cell_type": "code",
   "execution_count": 110,
   "metadata": {
    "ExecuteTime": {
     "end_time": "2020-03-19T03:23:00.675465Z",
     "start_time": "2020-03-19T03:23:00.408804Z"
    }
   },
   "outputs": [
    {
     "data": {
      "image/png": "[encoded data removed]",
      "text/plain": [
       "<Figure size 864x432 with 1 Axes>"
      ]
     },
     "metadata": {
      "needs_background": "light"
     },
     "output_type": "display_data"
    }
   ],
   "source": [
    "plt.figure(figsize=(12,6))\n",
    "np.log(y).plot()\n",
    "plt.title(\"Time series of # of faily requests to server\")\n",
    "plt.xlabel(\"#\")\n",
    "plt.ylabel(\"log(# of daily requests)\")\n",
    "plt.show()"
   ]
  },
  {
   "cell_type": "markdown",
   "metadata": {},
   "source": [
    "Finally, we can start to see the big picture. The analyzed data set is ranging from the of 2015 up until 10/03/2020, date of my download of the log file. It exihibits an upward trand with important noise. Aggregating log data at this level can be useful to detect massive attacks on server especially 2018-07.\n",
    "\n",
    "Let's aggrgate data on clients and check the distribution of number of requests per client."
   ]
  },
  {
   "cell_type": "code",
   "execution_count": 146,
   "metadata": {
    "ExecuteTime": {
     "end_time": "2020-03-19T03:40:10.923359Z",
     "start_time": "2020-03-19T03:40:09.613502Z"
    }
   },
   "outputs": [
    {
     "data": {
      "image/png": "[encoded data removed]",
      "text/plain": [
       "<Figure size 864x432 with 1 Axes>"
      ]
     },
     "metadata": {
      "needs_background": "light"
     },
     "output_type": "display_data"
    }
   ],
   "source": [
    "# client toal number of requests\n",
    "clients = df.\\\n",
    "           select(\"client_id\", \"request_id\").\\\n",
    "           groupBy(\"client_id\").\\\n",
    "           count().\\\n",
    "           withColumnRenamed(\"count\",\"n_request\").\\\n",
    "           toPandas()\n",
    "\n",
    "plt.figure(figsize=(12,6))\n",
    "sns.boxplot(y=clients.n_request.values)\n",
    "plt.title(\"Distribution of # of requests per client\")\n",
    "plt.ylabel(\"# of requets\")\n",
    "plt.show()"
   ]
  },
  {
   "cell_type": "markdown",
   "metadata": {},
   "source": [
    "It looks loike some clients are requesting (? attacking) the server relentessly !!! These top clients are most probably bots."
   ]
  },
  {
   "cell_type": "code",
   "execution_count": 150,
   "metadata": {
    "ExecuteTime": {
     "end_time": "2020-03-19T03:42:41.264143Z",
     "start_time": "2020-03-19T03:42:41.247492Z"
    }
   },
   "outputs": [
    {
     "data": {
      "text/html": [
       "<div>\n",
       "<style scoped>\n",
       "    .dataframe tbody tr th:only-of-type {\n",
       "        vertical-align: middle;\n",
       "    }\n",
       "\n",
       "    .dataframe tbody tr th {\n",
       "        vertical-align: top;\n",
       "    }\n",
       "\n",
       "    .dataframe thead th {\n",
       "        text-align: right;\n",
       "    }\n",
       "</style>\n",
       "<table border=\"1\" class=\"dataframe\">\n",
       "  <thead>\n",
       "    <tr style=\"text-align: right;\">\n",
       "      <th></th>\n",
       "      <th>client_id</th>\n",
       "      <th>n_request</th>\n",
       "    </tr>\n",
       "  </thead>\n",
       "  <tbody>\n",
       "    <tr>\n",
       "      <th>37819</th>\n",
       "      <td>60130146985</td>\n",
       "      <td>623829</td>\n",
       "    </tr>\n",
       "    <tr>\n",
       "      <th>56468</th>\n",
       "      <td>60130203301</td>\n",
       "      <td>422999</td>\n",
       "    </tr>\n",
       "    <tr>\n",
       "      <th>43286</th>\n",
       "      <td>25770507371</td>\n",
       "      <td>218529</td>\n",
       "    </tr>\n",
       "    <tr>\n",
       "      <th>12140</th>\n",
       "      <td>42949820714</td>\n",
       "      <td>167812</td>\n",
       "    </tr>\n",
       "    <tr>\n",
       "      <th>101905</th>\n",
       "      <td>34360149441</td>\n",
       "      <td>166722</td>\n",
       "    </tr>\n",
       "  </tbody>\n",
       "</table>\n",
       "</div>"
      ],
      "text/plain": [
       "          client_id  n_request\n",
       "37819   60130146985     623829\n",
       "56468   60130203301     422999\n",
       "43286   25770507371     218529\n",
       "12140   42949820714     167812\n",
       "101905  34360149441     166722"
      ]
     },
     "execution_count": 150,
     "metadata": {},
     "output_type": "execute_result"
    }
   ],
   "source": [
    "top_clients = clients.sort_values(by= \"n_request\",ascending=False).head()\n",
    "top_clients"
   ]
  },
  {
   "cell_type": "code",
   "execution_count": 182,
   "metadata": {
    "ExecuteTime": {
     "end_time": "2020-03-19T03:54:58.579760Z",
     "start_time": "2020-03-19T03:54:58.574237Z"
    }
   },
   "outputs": [
    {
     "data": {
      "text/plain": [
       "1599891"
      ]
     },
     "execution_count": 182,
     "metadata": {},
     "output_type": "execute_result"
    }
   ],
   "source": [
    "top_clients.n_request.sum()"
   ]
  },
  {
   "cell_type": "code",
   "execution_count": 183,
   "metadata": {
    "ExecuteTime": {
     "end_time": "2020-03-19T03:57:36.151460Z",
     "start_time": "2020-03-19T03:57:34.698669Z"
    }
   },
   "outputs": [
    {
     "data": {
      "text/html": [
       "<div>\n",
       "<style scoped>\n",
       "    .dataframe tbody tr th:only-of-type {\n",
       "        vertical-align: middle;\n",
       "    }\n",
       "\n",
       "    .dataframe tbody tr th {\n",
       "        vertical-align: top;\n",
       "    }\n",
       "\n",
       "    .dataframe thead th {\n",
       "        text-align: right;\n",
       "    }\n",
       "</style>\n",
       "<table border=\"1\" class=\"dataframe\">\n",
       "  <thead>\n",
       "    <tr style=\"text-align: right;\">\n",
       "      <th></th>\n",
       "      <th>client_id</th>\n",
       "      <th>ip_address</th>\n",
       "      <th>user_agent</th>\n",
       "      <th>referer</th>\n",
       "      <th>is_ua_bot</th>\n",
       "    </tr>\n",
       "  </thead>\n",
       "  <tbody>\n",
       "    <tr>\n",
       "      <th>0</th>\n",
       "      <td>60130203301</td>\n",
       "      <td>193.106.31.130</td>\n",
       "      <td>Mozilla/4.0 (compatible; MSIE 7.0; Windows NT ...</td>\n",
       "      <td>None</td>\n",
       "      <td>False</td>\n",
       "    </tr>\n",
       "    <tr>\n",
       "      <th>1</th>\n",
       "      <td>60130146985</td>\n",
       "      <td>13.84.43.203</td>\n",
       "      <td>Mozilla/5.0 (Windows NT 10.0; Win64; x64; rv:6...</td>\n",
       "      <td>None</td>\n",
       "      <td>False</td>\n",
       "    </tr>\n",
       "    <tr>\n",
       "      <th>2</th>\n",
       "      <td>42949820714</td>\n",
       "      <td>198.50.156.189</td>\n",
       "      <td>None</td>\n",
       "      <td>None</td>\n",
       "      <td>False</td>\n",
       "    </tr>\n",
       "    <tr>\n",
       "      <th>3</th>\n",
       "      <td>25770507371</td>\n",
       "      <td>100.1.14.108</td>\n",
       "      <td>Python/3.7 aiohttp/3.6.1</td>\n",
       "      <td>None</td>\n",
       "      <td>False</td>\n",
       "    </tr>\n",
       "    <tr>\n",
       "      <th>4</th>\n",
       "      <td>34360149441</td>\n",
       "      <td>5.112.235.245</td>\n",
       "      <td>Mozilla/5.0 (Windows NT 6.1; Trident/7.0; rv:1...</td>\n",
       "      <td>http://www.almhuette-raith.at/apache-log/</td>\n",
       "      <td>False</td>\n",
       "    </tr>\n",
       "  </tbody>\n",
       "</table>\n",
       "</div>"
      ],
      "text/plain": [
       "     client_id      ip_address  \\\n",
       "0  60130203301  193.106.31.130   \n",
       "1  60130146985    13.84.43.203   \n",
       "2  42949820714  198.50.156.189   \n",
       "3  25770507371    100.1.14.108   \n",
       "4  34360149441   5.112.235.245   \n",
       "\n",
       "                                          user_agent  \\\n",
       "0  Mozilla/4.0 (compatible; MSIE 7.0; Windows NT ...   \n",
       "1  Mozilla/5.0 (Windows NT 10.0; Win64; x64; rv:6...   \n",
       "2                                               None   \n",
       "3                           Python/3.7 aiohttp/3.6.1   \n",
       "4  Mozilla/5.0 (Windows NT 6.1; Trident/7.0; rv:1...   \n",
       "\n",
       "                                     referer  is_ua_bot  \n",
       "0                                       None      False  \n",
       "1                                       None      False  \n",
       "2                                       None      False  \n",
       "3                                       None      False  \n",
       "4  http://www.almhuette-raith.at/apache-log/      False  "
      ]
     },
     "execution_count": 183,
     "metadata": {},
     "output_type": "execute_result"
    }
   ],
   "source": [
    "s = top_clients.client_id.values.tolist()\n",
    "top_bots = df.\\\n",
    "            filter(df.client_id.isin(s)).\\\n",
    "            select(\"client_id\", \"ip_address\", \"user_agent\", \"referer\", \"is_ua_bot\").\\\n",
    "            dropDuplicates()\n",
    "\n",
    "sample = sc.parallelize(top_bots.collect()).toDF().toPandas()\n",
    "sample"
   ]
  },
  {
   "cell_type": "markdown",
   "metadata": {},
   "source": [
    "__This simple aggregation uncovered the top 5 most malicious bots that are accouting for 1.6 Million requests !!!!__\n",
    "\n",
    "This is very promising and powerful and we can do much more :)"
   ]
  },
  {
   "cell_type": "markdown",
   "metadata": {},
   "source": [
    "## R1: requested file"
   ]
  },
  {
   "cell_type": "code",
   "execution_count": 11,
   "metadata": {
    "ExecuteTime": {
     "end_time": "2020-03-19T02:41:27.199138Z",
     "start_time": "2020-03-19T02:41:23.145589Z"
    }
   },
   "outputs": [],
   "source": [
    "data = df.\\\n",
    "    groupBy(\"request_file\").\\\n",
    "    count().\\\n",
    "    sort(desc(\"count\")).\\\n",
    "    withColumnRenamed(\"count\",\"freq\").\\\n",
    "    head(10)\n",
    "data = sc.parallelize(data).toDF().toPandas()"
   ]
  },
  {
   "cell_type": "code",
   "execution_count": 12,
   "metadata": {
    "ExecuteTime": {
     "end_time": "2020-03-19T02:41:28.444179Z",
     "start_time": "2020-03-19T02:41:28.011525Z"
    }
   },
   "outputs": [
    {
     "data": {
      "image/png": "[encoded data removed]",
      "text/plain": [
       "<Figure size 576x432 with 1 Axes>"
      ]
     },
     "metadata": {
      "needs_background": "light"
     },
     "output_type": "display_data"
    }
   ],
   "source": [
    "plt.figure(figsize=(8,6))\n",
    "data.request_file = data.request_file.astype(str)\n",
    "data = data.sort_values(by=\"freq\", ascending=True)\n",
    "traffic_fraction = np.round(100*data.freq.sum() / n,1)\n",
    "plt.barh(y = data.request_file.values, width=data.freq.values)\n",
    "plt.title(f\"Top 10 most requested files\\n{traffic_fraction} of server traffic%\")\n",
    "plt.xlabel(\"#\")\n",
    "plt.ylabel(\"File name\")\n",
    "plt.show()"
   ]
  },
  {
   "cell_type": "markdown",
   "metadata": {},
   "source": [
    "## R2: self-declared bot in user agent"
   ]
  },
  {
   "cell_type": "code",
   "execution_count": 13,
   "metadata": {
    "ExecuteTime": {
     "end_time": "2020-03-19T02:41:43.256145Z",
     "start_time": "2020-03-19T02:41:42.073732Z"
    }
   },
   "outputs": [],
   "source": [
    "data = df.\\\n",
    "    groupBy(\"is_ua_bot\").\\\n",
    "    count().\\\n",
    "    sort(desc(\"count\")).\\\n",
    "    withColumnRenamed(\"count\",\"freq\").\\\n",
    "    head(10)\n",
    "data = sc.parallelize(data).toDF().toPandas()"
   ]
  },
  {
   "cell_type": "code",
   "execution_count": 14,
   "metadata": {
    "ExecuteTime": {
     "end_time": "2020-03-19T02:41:44.289662Z",
     "start_time": "2020-03-19T02:41:44.119252Z"
    }
   },
   "outputs": [
    {
     "data": {
      "image/png": "[encoded data removed]",
      "text/plain": [
       "<Figure size 576x432 with 1 Axes>"
      ]
     },
     "metadata": {
      "needs_background": "light"
     },
     "output_type": "display_data"
    }
   ],
   "source": [
    "plt.figure(figsize=(8,6))\n",
    "data.is_ua_bot = data.is_ua_bot.astype(str)\n",
    "data = data.sort_values(by=\"freq\", ascending=True)\n",
    "self_bot_fraction = np.round(100*int(data.query(\"is_ua_bot == 'True'\")[\"freq\"])/ n,1)\n",
    "plt.barh(y = data.is_ua_bot.values, width=data.freq.values)\n",
    "plt.title(f\"Self-declared bot distribution\\nSelf-declared bot: {self_bot_fraction}%\")\n",
    "plt.xlabel(\"#\")\n",
    "plt.ylabel(\"Is self declared bot\")\n",
    "plt.show()"
   ]
  },
  {
   "cell_type": "markdown",
   "metadata": {},
   "source": [
    "## R3: HTTP method head"
   ]
  },
  {
   "cell_type": "code",
   "execution_count": 15,
   "metadata": {
    "ExecuteTime": {
     "end_time": "2020-03-19T02:41:49.556942Z",
     "start_time": "2020-03-19T02:41:48.326005Z"
    }
   },
   "outputs": [],
   "source": [
    "data = df.\\\n",
    "    groupBy(\"request_method\").\\\n",
    "    count().\\\n",
    "    sort(asc(\"count\")).\\\n",
    "    withColumnRenamed(\"count\",\"freq\").\\\n",
    "    toPandas()"
   ]
  },
  {
   "cell_type": "code",
   "execution_count": 16,
   "metadata": {
    "ExecuteTime": {
     "end_time": "2020-03-19T02:41:50.241444Z",
     "start_time": "2020-03-19T02:41:49.986930Z"
    }
   },
   "outputs": [
    {
     "data": {
      "image/png": "[encoded data removed]",
      "text/plain": [
       "<Figure size 576x432 with 1 Axes>"
      ]
     },
     "metadata": {
      "needs_background": "light"
     },
     "output_type": "display_data"
    }
   ],
   "source": [
    "plt.figure(figsize=(8,6))\n",
    "data.request_method = data.request_method.astype(str)\n",
    "plt.barh(y = data.request_method.values, width=data.freq.values)\n",
    "plt.title(\"HTTP method frequencies\")\n",
    "plt.xlabel(\"#\")\n",
    "plt.ylabel(\"HTTP method\")\n",
    "plt.show()"
   ]
  },
  {
   "cell_type": "markdown",
   "metadata": {},
   "source": [
    "__Comment__\n",
    "\n",
    "Almost 99% of server traffic is generated by GET, POST and HEAD requests as following\n",
    "- GET 60.8%\n",
    "- POST 25,2%\n",
    "- HEAD 12,4%\n",
    "\n",
    "Let's examine some HEAD requests. These results are not obvious to conclude that these request are from a bot."
   ]
  },
  {
   "cell_type": "code",
   "execution_count": 17,
   "metadata": {
    "ExecuteTime": {
     "end_time": "2020-03-19T02:41:54.680107Z",
     "start_time": "2020-03-19T02:41:53.760981Z"
    }
   },
   "outputs": [
    {
     "data": {
      "text/html": [
       "<div>\n",
       "<style scoped>\n",
       "    .dataframe tbody tr th:only-of-type {\n",
       "        vertical-align: middle;\n",
       "    }\n",
       "\n",
       "    .dataframe tbody tr th {\n",
       "        vertical-align: top;\n",
       "    }\n",
       "\n",
       "    .dataframe thead th {\n",
       "        text-align: right;\n",
       "    }\n",
       "</style>\n",
       "<table border=\"1\" class=\"dataframe\">\n",
       "  <thead>\n",
       "    <tr style=\"text-align: right;\">\n",
       "      <th></th>\n",
       "      <th>user_agent</th>\n",
       "      <th>request</th>\n",
       "      <th>request_method</th>\n",
       "      <th>is_ua_bot</th>\n",
       "    </tr>\n",
       "  </thead>\n",
       "  <tbody>\n",
       "    <tr>\n",
       "      <th>0</th>\n",
       "      <td>Mozilla/5.0 (Windows NT 6.1; WOW64) AppleWebKi...</td>\n",
       "      <td>HEAD / HTTP/1.1</td>\n",
       "      <td>HEAD</td>\n",
       "      <td>False</td>\n",
       "    </tr>\n",
       "    <tr>\n",
       "      <th>1</th>\n",
       "      <td>Microsoft Office Word 2013</td>\n",
       "      <td>HEAD / HTTP/1.1</td>\n",
       "      <td>HEAD</td>\n",
       "      <td>False</td>\n",
       "    </tr>\n",
       "    <tr>\n",
       "      <th>2</th>\n",
       "      <td>Microsoft Office PowerPoint 2014</td>\n",
       "      <td>HEAD /apache-log/access.log HTTP/1.1</td>\n",
       "      <td>HEAD</td>\n",
       "      <td>False</td>\n",
       "    </tr>\n",
       "    <tr>\n",
       "      <th>3</th>\n",
       "      <td>Microsoft Office PowerPoint 2014</td>\n",
       "      <td>HEAD /apache-log/access.log HTTP/1.1</td>\n",
       "      <td>HEAD</td>\n",
       "      <td>False</td>\n",
       "    </tr>\n",
       "    <tr>\n",
       "      <th>4</th>\n",
       "      <td>Mozilla/5.0 (Macintosh; U; Intel Mac OS X 10_6...</td>\n",
       "      <td>HEAD / HTTP/1.1</td>\n",
       "      <td>HEAD</td>\n",
       "      <td>False</td>\n",
       "    </tr>\n",
       "    <tr>\n",
       "      <th>5</th>\n",
       "      <td>Mozilla/5.0 (Windows NT 6.3; Win64; x64) Apple...</td>\n",
       "      <td>HEAD /includes/configure.php~ HTTP/1.1</td>\n",
       "      <td>HEAD</td>\n",
       "      <td>False</td>\n",
       "    </tr>\n",
       "    <tr>\n",
       "      <th>6</th>\n",
       "      <td>Mozilla/5.0 (Windows NT 6.3; Win64; x64) Apple...</td>\n",
       "      <td>HEAD /includes/configure.php_old HTTP/1.1</td>\n",
       "      <td>HEAD</td>\n",
       "      <td>False</td>\n",
       "    </tr>\n",
       "    <tr>\n",
       "      <th>7</th>\n",
       "      <td>Mozilla/5.0 (Windows NT 6.3; Win64; x64) Apple...</td>\n",
       "      <td>HEAD /includes/configure.php_bak HTTP/1.1</td>\n",
       "      <td>HEAD</td>\n",
       "      <td>False</td>\n",
       "    </tr>\n",
       "    <tr>\n",
       "      <th>8</th>\n",
       "      <td>Mozilla/5.0 (Windows NT 6.3; Win64; x64) Apple...</td>\n",
       "      <td>HEAD /includes/configure.php.save HTTP/1.1</td>\n",
       "      <td>HEAD</td>\n",
       "      <td>False</td>\n",
       "    </tr>\n",
       "    <tr>\n",
       "      <th>9</th>\n",
       "      <td>Mozilla/5.0 (Windows NT 6.3; Win64; x64) Apple...</td>\n",
       "      <td>HEAD /includes/configure.php.org HTTP/1.1</td>\n",
       "      <td>HEAD</td>\n",
       "      <td>False</td>\n",
       "    </tr>\n",
       "  </tbody>\n",
       "</table>\n",
       "</div>"
      ],
      "text/plain": [
       "                                          user_agent  \\\n",
       "0  Mozilla/5.0 (Windows NT 6.1; WOW64) AppleWebKi...   \n",
       "1                         Microsoft Office Word 2013   \n",
       "2                   Microsoft Office PowerPoint 2014   \n",
       "3                   Microsoft Office PowerPoint 2014   \n",
       "4  Mozilla/5.0 (Macintosh; U; Intel Mac OS X 10_6...   \n",
       "5  Mozilla/5.0 (Windows NT 6.3; Win64; x64) Apple...   \n",
       "6  Mozilla/5.0 (Windows NT 6.3; Win64; x64) Apple...   \n",
       "7  Mozilla/5.0 (Windows NT 6.3; Win64; x64) Apple...   \n",
       "8  Mozilla/5.0 (Windows NT 6.3; Win64; x64) Apple...   \n",
       "9  Mozilla/5.0 (Windows NT 6.3; Win64; x64) Apple...   \n",
       "\n",
       "                                      request request_method  is_ua_bot  \n",
       "0                             HEAD / HTTP/1.1           HEAD      False  \n",
       "1                             HEAD / HTTP/1.1           HEAD      False  \n",
       "2        HEAD /apache-log/access.log HTTP/1.1           HEAD      False  \n",
       "3        HEAD /apache-log/access.log HTTP/1.1           HEAD      False  \n",
       "4                             HEAD / HTTP/1.1           HEAD      False  \n",
       "5      HEAD /includes/configure.php~ HTTP/1.1           HEAD      False  \n",
       "6   HEAD /includes/configure.php_old HTTP/1.1           HEAD      False  \n",
       "7   HEAD /includes/configure.php_bak HTTP/1.1           HEAD      False  \n",
       "8  HEAD /includes/configure.php.save HTTP/1.1           HEAD      False  \n",
       "9   HEAD /includes/configure.php.org HTTP/1.1           HEAD      False  "
      ]
     },
     "execution_count": 17,
     "metadata": {},
     "output_type": "execute_result"
    }
   ],
   "source": [
    "sample = df.\\\n",
    "    select(\"user_agent\", \"request\",\"request_method\", \"is_ua_bot\").\\\n",
    "    filter(col(\"request_method\") == \"HEAD\")\n",
    "sample = sc.parallelize(sample.take(10)).toDF().toPandas()\n",
    "sample"
   ]
  },
  {
   "cell_type": "markdown",
   "metadata": {},
   "source": [
    "## R4: Requests status code"
   ]
  },
  {
   "cell_type": "code",
   "execution_count": 18,
   "metadata": {
    "ExecuteTime": {
     "end_time": "2020-03-19T02:41:59.423924Z",
     "start_time": "2020-03-19T02:41:58.305618Z"
    }
   },
   "outputs": [],
   "source": [
    "data = df.\\\n",
    "    groupBy(\"status_code\").\\\n",
    "    count().\\\n",
    "    sort(desc(\"count\")).\\\n",
    "    withColumnRenamed(\"count\",\"freq\").\\\n",
    "    toPandas()"
   ]
  },
  {
   "cell_type": "code",
   "execution_count": 19,
   "metadata": {
    "ExecuteTime": {
     "end_time": "2020-03-19T02:42:01.435274Z",
     "start_time": "2020-03-19T02:42:01.166747Z"
    }
   },
   "outputs": [
    {
     "data": {
      "image/png": "[encoded data removed]",
      "text/plain": [
       "<Figure size 576x432 with 1 Axes>"
      ]
     },
     "metadata": {
      "needs_background": "light"
     },
     "output_type": "display_data"
    }
   ],
   "source": [
    "plt.figure(figsize=(8,6))\n",
    "data.freq = (100/n)*data.freq\n",
    "data.status_code = data.status_code.astype(str)\n",
    "data = data.sort_values(by=\"freq\", ascending=True)\n",
    "plt.barh(y = data.status_code.values, width=data.freq.values)\n",
    "plt.title(\"Request status fequencies\")\n",
    "plt.xlabel(\"#\")\n",
    "plt.ylabel(\"Request code\")\n",
    "plt.show()"
   ]
  },
  {
   "cell_type": "markdown",
   "metadata": {},
   "source": [
    "__Comments__\n",
    "\n",
    "\n",
    "These informations are available here: https://httpstatuses.com/\n",
    "\n",
    "\n",
    "- 2XX correspond to HTTP request success (~87% of server requests)\n",
    "    - 200: OK. HTTP calls with 200 status code correspond to successful call.\n",
    "    - 206: HTTP calls with 206 status code correspond to successful partial retreiving of the content\n",
    "- 3XX correspond to redirection\n",
    "    - 303: SEE OTHERS. The server is redirecting the user agent to a different resource, as indicated by a URI in the Location header field, which is intended to provide an indirect response to the original request.\n",
    "    \n",
    "- 4XX client errors (~12% of server requests)\n",
    "    - 404: NOT FOUND. HTTP calls with 404 correspond to not found resource in the server. According to Chio and Freeman, it might be correlated to bot activity caused by an oudated bot script that did not yet adapt to serve update.\n",
    "    \n",
    "    \n",
    "Let's examine some 404 requests."
   ]
  },
  {
   "cell_type": "code",
   "execution_count": 20,
   "metadata": {
    "ExecuteTime": {
     "end_time": "2020-03-19T02:42:05.754353Z",
     "start_time": "2020-03-19T02:42:05.402758Z"
    }
   },
   "outputs": [
    {
     "data": {
      "text/html": [
       "<div>\n",
       "<style scoped>\n",
       "    .dataframe tbody tr th:only-of-type {\n",
       "        vertical-align: middle;\n",
       "    }\n",
       "\n",
       "    .dataframe tbody tr th {\n",
       "        vertical-align: top;\n",
       "    }\n",
       "\n",
       "    .dataframe thead th {\n",
       "        text-align: right;\n",
       "    }\n",
       "</style>\n",
       "<table border=\"1\" class=\"dataframe\">\n",
       "  <thead>\n",
       "    <tr style=\"text-align: right;\">\n",
       "      <th></th>\n",
       "      <th>user_agent</th>\n",
       "      <th>request</th>\n",
       "      <th>status_code</th>\n",
       "      <th>is_ua_bot</th>\n",
       "    </tr>\n",
       "  </thead>\n",
       "  <tbody>\n",
       "    <tr>\n",
       "      <th>0</th>\n",
       "      <td>Opera/9.80 (Windows NT 6.2; Win64; x64) Presto...</td>\n",
       "      <td>GET /wp-login.php HTTP/1.1</td>\n",
       "      <td>404</td>\n",
       "      <td>False</td>\n",
       "    </tr>\n",
       "    <tr>\n",
       "      <th>1</th>\n",
       "      <td>Opera/9.80 (Windows NT 6.2; Win64; x64) Presto...</td>\n",
       "      <td>GET /wp-login.php HTTP/1.1</td>\n",
       "      <td>404</td>\n",
       "      <td>False</td>\n",
       "    </tr>\n",
       "    <tr>\n",
       "      <th>2</th>\n",
       "      <td>Mozilla/5.0 (Windows NT 10.0; Win64; x64) Appl...</td>\n",
       "      <td>GET /templates/_system/css/general.css HTTP/1.1</td>\n",
       "      <td>404</td>\n",
       "      <td>False</td>\n",
       "    </tr>\n",
       "    <tr>\n",
       "      <th>3</th>\n",
       "      <td>Mozilla/5.0 (Windows NT 10.0; Win64; x64) Appl...</td>\n",
       "      <td>GET /templates/_system/css/general.css HTTP/1.1</td>\n",
       "      <td>404</td>\n",
       "      <td>False</td>\n",
       "    </tr>\n",
       "    <tr>\n",
       "      <th>4</th>\n",
       "      <td>Mozilla/5.0 (Windows NT 10.0; Win64; x64) Appl...</td>\n",
       "      <td>GET /favicon.ico HTTP/1.1</td>\n",
       "      <td>404</td>\n",
       "      <td>False</td>\n",
       "    </tr>\n",
       "    <tr>\n",
       "      <th>5</th>\n",
       "      <td>Mozilla/5.0 (Windows NT 10.0; Win64; x64) Appl...</td>\n",
       "      <td>GET /templates/_system/css/general.css HTTP/1.1</td>\n",
       "      <td>404</td>\n",
       "      <td>False</td>\n",
       "    </tr>\n",
       "    <tr>\n",
       "      <th>6</th>\n",
       "      <td>Mozilla/5.0 (Windows NT 10.0; Win64; x64) Appl...</td>\n",
       "      <td>GET /templates/_system/css/general.css HTTP/1.1</td>\n",
       "      <td>404</td>\n",
       "      <td>False</td>\n",
       "    </tr>\n",
       "    <tr>\n",
       "      <th>7</th>\n",
       "      <td>Mozilla/5.0 (Windows NT 10.0; Win64; x64) Appl...</td>\n",
       "      <td>GET /templates/_system/css/general.css HTTP/1.1</td>\n",
       "      <td>404</td>\n",
       "      <td>False</td>\n",
       "    </tr>\n",
       "    <tr>\n",
       "      <th>8</th>\n",
       "      <td>Mozilla/5.0 (Windows NT 10.0; Win64; x64) Appl...</td>\n",
       "      <td>GET /templates/_system/css/general.css HTTP/1.1</td>\n",
       "      <td>404</td>\n",
       "      <td>False</td>\n",
       "    </tr>\n",
       "    <tr>\n",
       "      <th>9</th>\n",
       "      <td>Mozilla/5.0 (Windows NT 10.0; Win64; x64) Appl...</td>\n",
       "      <td>GET /templates/_system/css/general.css HTTP/1.1</td>\n",
       "      <td>404</td>\n",
       "      <td>False</td>\n",
       "    </tr>\n",
       "  </tbody>\n",
       "</table>\n",
       "</div>"
      ],
      "text/plain": [
       "                                          user_agent  \\\n",
       "0  Opera/9.80 (Windows NT 6.2; Win64; x64) Presto...   \n",
       "1  Opera/9.80 (Windows NT 6.2; Win64; x64) Presto...   \n",
       "2  Mozilla/5.0 (Windows NT 10.0; Win64; x64) Appl...   \n",
       "3  Mozilla/5.0 (Windows NT 10.0; Win64; x64) Appl...   \n",
       "4  Mozilla/5.0 (Windows NT 10.0; Win64; x64) Appl...   \n",
       "5  Mozilla/5.0 (Windows NT 10.0; Win64; x64) Appl...   \n",
       "6  Mozilla/5.0 (Windows NT 10.0; Win64; x64) Appl...   \n",
       "7  Mozilla/5.0 (Windows NT 10.0; Win64; x64) Appl...   \n",
       "8  Mozilla/5.0 (Windows NT 10.0; Win64; x64) Appl...   \n",
       "9  Mozilla/5.0 (Windows NT 10.0; Win64; x64) Appl...   \n",
       "\n",
       "                                           request status_code  is_ua_bot  \n",
       "0                       GET /wp-login.php HTTP/1.1         404      False  \n",
       "1                       GET /wp-login.php HTTP/1.1         404      False  \n",
       "2  GET /templates/_system/css/general.css HTTP/1.1         404      False  \n",
       "3  GET /templates/_system/css/general.css HTTP/1.1         404      False  \n",
       "4                        GET /favicon.ico HTTP/1.1         404      False  \n",
       "5  GET /templates/_system/css/general.css HTTP/1.1         404      False  \n",
       "6  GET /templates/_system/css/general.css HTTP/1.1         404      False  \n",
       "7  GET /templates/_system/css/general.css HTTP/1.1         404      False  \n",
       "8  GET /templates/_system/css/general.css HTTP/1.1         404      False  \n",
       "9  GET /templates/_system/css/general.css HTTP/1.1         404      False  "
      ]
     },
     "execution_count": 20,
     "metadata": {},
     "output_type": "execute_result"
    }
   ],
   "source": [
    "sample = df.\\\n",
    "    select(\"user_agent\", \"request\",\"status_code\", \"is_ua_bot\").\\\n",
    "    filter(col(\"status_code\") == \"404\")\n",
    "sample = sc.parallelize(sample.take(10)).toDF().toPandas()\n",
    "sample"
   ]
  },
  {
   "cell_type": "markdown",
   "metadata": {},
   "source": [
    "## R5: Request from command line"
   ]
  },
  {
   "cell_type": "code",
   "execution_count": 21,
   "metadata": {
    "ExecuteTime": {
     "end_time": "2020-03-19T02:42:10.544249Z",
     "start_time": "2020-03-19T02:42:09.744503Z"
    }
   },
   "outputs": [],
   "source": [
    "data = df.\\\n",
    "    groupBy(\"is_cmd\").\\\n",
    "    count().\\\n",
    "    sort(desc(\"count\")).\\\n",
    "    withColumnRenamed(\"count\",\"freq\").\\\n",
    "    toPandas()"
   ]
  },
  {
   "cell_type": "code",
   "execution_count": 22,
   "metadata": {
    "ExecuteTime": {
     "end_time": "2020-03-19T02:42:11.162225Z",
     "start_time": "2020-03-19T02:42:11.006790Z"
    }
   },
   "outputs": [
    {
     "data": {
      "image/png": "[encoded data removed]",
      "text/plain": [
       "<Figure size 576x432 with 1 Axes>"
      ]
     },
     "metadata": {
      "needs_background": "light"
     },
     "output_type": "display_data"
    }
   ],
   "source": [
    "plt.figure(figsize=(8,6))\n",
    "data.is_cmd = data.is_cmd.astype(str)\n",
    "freq = data[data.is_cmd == 'True'].iloc[0,1]\n",
    "fraction = np.round(100.0*freq/n,3)\n",
    "data = data.sort_values(by=\"freq\", ascending=True)\n",
    "plt.barh(y = data.is_cmd.values, width=data.freq.values)\n",
    "plt.title(f\"Commad line use fequencies\\n {fraction}% of Total traffic\")\n",
    "plt.xlabel(\"#\")\n",
    "plt.ylabel(\"Is it command line\")\n",
    "plt.show()"
   ]
  },
  {
   "cell_type": "markdown",
   "metadata": {},
   "source": [
    "__Comment__\n",
    "\n",
    "Running a script from command line is highly correlated with bot activity but is a very rare case 0.13% of total traffic."
   ]
  },
  {
   "cell_type": "markdown",
   "metadata": {},
   "source": [
    "## R6: SQL injections"
   ]
  },
  {
   "cell_type": "code",
   "execution_count": 45,
   "metadata": {
    "ExecuteTime": {
     "end_time": "2020-03-19T02:49:02.506459Z",
     "start_time": "2020-03-19T02:49:01.876372Z"
    }
   },
   "outputs": [],
   "source": [
    "data = df.\\\n",
    "    groupBy(\"is_sql_cmd\").\\\n",
    "    count().\\\n",
    "    sort(desc(\"count\")).\\\n",
    "    withColumnRenamed(\"count\",\"freq\").\\\n",
    "    toPandas()"
   ]
  },
  {
   "cell_type": "code",
   "execution_count": 47,
   "metadata": {
    "ExecuteTime": {
     "end_time": "2020-03-19T02:49:09.529227Z",
     "start_time": "2020-03-19T02:49:09.309526Z"
    }
   },
   "outputs": [
    {
     "data": {
      "image/png": "[encoded data removed]",
      "text/plain": [
       "<Figure size 576x432 with 1 Axes>"
      ]
     },
     "metadata": {
      "needs_background": "light"
     },
     "output_type": "display_data"
    }
   ],
   "source": [
    "plt.figure(figsize=(8,6))\n",
    "freq = data[data.is_sql_cmd >0].freq.sum()\n",
    "fraction = np.round(100.0*freq/n,2)\n",
    "data = data.sort_values(by=\"freq\", ascending=True)\n",
    "data = data[data.is_sql_cmd >0]\n",
    "plt.barh(y = data.is_sql_cmd.values, width=data.freq.values)\n",
    "plt.title(f\"SQL injections fequencies\\n {fraction}% of Total traffic\")\n",
    "plt.xlabel(\"#\")\n",
    "plt.ylabel(\"# SQL related key words\")\n",
    "plt.show()"
   ]
  },
  {
   "cell_type": "markdown",
   "metadata": {
    "ExecuteTime": {
     "end_time": "2020-03-19T02:49:29.416034Z",
     "start_time": "2020-03-19T02:49:29.405800Z"
    }
   },
   "source": [
    "__Comment__\n",
    "Running an SQL injection attack is an advanced bot behavior that is very rare in this web server <= 0.08% of total traffic but highly correlated with malicious bot attack and can be extremley harmful (ex. stuffing user personal data or credentials,...)."
   ]
  },
  {
   "cell_type": "code",
   "execution_count": 49,
   "metadata": {
    "ExecuteTime": {
     "end_time": "2020-03-19T02:51:26.571445Z",
     "start_time": "2020-03-19T02:51:25.942438Z"
    }
   },
   "outputs": [
    {
     "data": {
      "text/html": [
       "<div>\n",
       "<style scoped>\n",
       "    .dataframe tbody tr th:only-of-type {\n",
       "        vertical-align: middle;\n",
       "    }\n",
       "\n",
       "    .dataframe tbody tr th {\n",
       "        vertical-align: top;\n",
       "    }\n",
       "\n",
       "    .dataframe thead th {\n",
       "        text-align: right;\n",
       "    }\n",
       "</style>\n",
       "<table border=\"1\" class=\"dataframe\">\n",
       "  <thead>\n",
       "    <tr style=\"text-align: right;\">\n",
       "      <th></th>\n",
       "      <th>user_agent</th>\n",
       "      <th>request</th>\n",
       "      <th>is_sql_cmd</th>\n",
       "      <th>is_ua_bot</th>\n",
       "    </tr>\n",
       "  </thead>\n",
       "  <tbody>\n",
       "    <tr>\n",
       "      <th>0</th>\n",
       "      <td>None</td>\n",
       "      <td>GET /index.php?option=com_contactformmaker&amp;vie...</td>\n",
       "      <td>6</td>\n",
       "      <td>False</td>\n",
       "    </tr>\n",
       "    <tr>\n",
       "      <th>1</th>\n",
       "      <td>Python/3.7 aiohttp/3.6.1</td>\n",
       "      <td>GET /index.php?option=com_phocagallery&amp;view=ca...</td>\n",
       "      <td>5</td>\n",
       "      <td>False</td>\n",
       "    </tr>\n",
       "    <tr>\n",
       "      <th>2</th>\n",
       "      <td>Python/3.7 aiohttp/3.6.1</td>\n",
       "      <td>GET /index.php?option=com_phocagallery&amp;view=ca...</td>\n",
       "      <td>5</td>\n",
       "      <td>False</td>\n",
       "    </tr>\n",
       "    <tr>\n",
       "      <th>3</th>\n",
       "      <td>Python/3.7 aiohttp/3.6.1</td>\n",
       "      <td>GET /index.php?option=com_phocagallery&amp;view=ca...</td>\n",
       "      <td>5</td>\n",
       "      <td>False</td>\n",
       "    </tr>\n",
       "    <tr>\n",
       "      <th>4</th>\n",
       "      <td>Python/3.7 aiohttp/3.6.1</td>\n",
       "      <td>GET /index.php?option=com_phocagallery&amp;view=ca...</td>\n",
       "      <td>5</td>\n",
       "      <td>False</td>\n",
       "    </tr>\n",
       "    <tr>\n",
       "      <th>5</th>\n",
       "      <td>Python/3.7 aiohttp/3.6.1</td>\n",
       "      <td>GET /index.php?option=com_phocagallery&amp;view=ca...</td>\n",
       "      <td>5</td>\n",
       "      <td>False</td>\n",
       "    </tr>\n",
       "    <tr>\n",
       "      <th>6</th>\n",
       "      <td>Python/3.7 aiohttp/3.6.1</td>\n",
       "      <td>GET /index.php?option=com_phocagallery&amp;view=ca...</td>\n",
       "      <td>5</td>\n",
       "      <td>False</td>\n",
       "    </tr>\n",
       "    <tr>\n",
       "      <th>7</th>\n",
       "      <td>Python/3.7 aiohttp/3.6.1</td>\n",
       "      <td>GET /index.php?option=com_phocagallery&amp;view=ca...</td>\n",
       "      <td>5</td>\n",
       "      <td>False</td>\n",
       "    </tr>\n",
       "    <tr>\n",
       "      <th>8</th>\n",
       "      <td>Python/3.7 aiohttp/3.6.1</td>\n",
       "      <td>GET /index.php?option=com_phocagallery&amp;view=ca...</td>\n",
       "      <td>5</td>\n",
       "      <td>False</td>\n",
       "    </tr>\n",
       "    <tr>\n",
       "      <th>9</th>\n",
       "      <td>Python/3.7 aiohttp/3.6.1</td>\n",
       "      <td>GET /index.php?option=com_phocagallery&amp;view=ca...</td>\n",
       "      <td>5</td>\n",
       "      <td>False</td>\n",
       "    </tr>\n",
       "  </tbody>\n",
       "</table>\n",
       "</div>"
      ],
      "text/plain": [
       "                 user_agent  \\\n",
       "0                      None   \n",
       "1  Python/3.7 aiohttp/3.6.1   \n",
       "2  Python/3.7 aiohttp/3.6.1   \n",
       "3  Python/3.7 aiohttp/3.6.1   \n",
       "4  Python/3.7 aiohttp/3.6.1   \n",
       "5  Python/3.7 aiohttp/3.6.1   \n",
       "6  Python/3.7 aiohttp/3.6.1   \n",
       "7  Python/3.7 aiohttp/3.6.1   \n",
       "8  Python/3.7 aiohttp/3.6.1   \n",
       "9  Python/3.7 aiohttp/3.6.1   \n",
       "\n",
       "                                             request  is_sql_cmd  is_ua_bot  \n",
       "0  GET /index.php?option=com_contactformmaker&vie...           6      False  \n",
       "1  GET /index.php?option=com_phocagallery&view=ca...           5      False  \n",
       "2  GET /index.php?option=com_phocagallery&view=ca...           5      False  \n",
       "3  GET /index.php?option=com_phocagallery&view=ca...           5      False  \n",
       "4  GET /index.php?option=com_phocagallery&view=ca...           5      False  \n",
       "5  GET /index.php?option=com_phocagallery&view=ca...           5      False  \n",
       "6  GET /index.php?option=com_phocagallery&view=ca...           5      False  \n",
       "7  GET /index.php?option=com_phocagallery&view=ca...           5      False  \n",
       "8  GET /index.php?option=com_phocagallery&view=ca...           5      False  \n",
       "9  GET /index.php?option=com_phocagallery&view=ca...           5      False  "
      ]
     },
     "execution_count": 49,
     "metadata": {},
     "output_type": "execute_result"
    }
   ],
   "source": [
    "sample = df.\\\n",
    "    select(\"user_agent\", \"request\",\"is_sql_cmd\", \"is_ua_bot\").\\\n",
    "    filter(col(\"is_sql_cmd\") >= 5)\n",
    "sample = sc.parallelize(sample.take(10)).toDF().toPandas()\n",
    "sample"
   ]
  },
  {
   "cell_type": "code",
   "execution_count": 54,
   "metadata": {
    "ExecuteTime": {
     "end_time": "2020-03-19T02:52:42.126863Z",
     "start_time": "2020-03-19T02:52:42.120622Z"
    }
   },
   "outputs": [
    {
     "data": {
      "text/plain": [
       "\"GET /index.php?option=com_phocagallery&view=category&id=1&Itemid=53&YEyU%3D4842%20AND%201%3D1%20UNION%20ALL%20SELECT%201,NULL,'%3Cscript%3Ealert(%22XSS%22)%3C/script%3E',table_name%20FROM%20information_schema.tables%20WHERE%202%3E1--/**/%3B%20EXEC%20xp_cmdshell('cat%20../../../etc/passwd')%23 HTTP/1.1\""
      ]
     },
     "execution_count": 54,
     "metadata": {},
     "output_type": "execute_result"
    }
   ],
   "source": [
    "sample.request[9]"
   ]
  },
  {
   "cell_type": "markdown",
   "metadata": {},
   "source": [
    "# Data annotation"
   ]
  },
  {
   "cell_type": "code",
   "execution_count": 185,
   "metadata": {
    "ExecuteTime": {
     "end_time": "2020-03-19T04:09:37.326826Z",
     "start_time": "2020-03-19T04:09:37.290473Z"
    }
   },
   "outputs": [],
   "source": [
    "labeled_df = df.\\\n",
    "                withColumn(\"is_trivial_bot\",\n",
    "                                (col(\"request_file\") == \"robots.txt\")|\n",
    "                                (col(\"is_ua_bot\") == True)|\n",
    "                                (col(\"status_code\") == \"404\")|\n",
    "                                (col(\"is_cmd\") == True)|\n",
    "                                (col(\"is_sql_cmd\") >= 2))\n",
    "                                "
   ]
  },
  {
   "cell_type": "code",
   "execution_count": 187,
   "metadata": {
    "ExecuteTime": {
     "end_time": "2020-03-19T04:10:25.722053Z",
     "start_time": "2020-03-19T04:10:24.681894Z"
    }
   },
   "outputs": [
    {
     "name": "stdout",
     "output_type": "stream",
     "text": [
      "+--------------+-------+\n",
      "|is_trivial_bot|  count|\n",
      "+--------------+-------+\n",
      "|          true| 757180|\n",
      "|         false|4258626|\n",
      "+--------------+-------+\n",
      "\n"
     ]
    }
   ],
   "source": [
    "labeled_df.select(\"is_trivial_bot\").groupBy(\"is_trivial_bot\").count().show()"
   ]
  },
  {
   "cell_type": "markdown",
   "metadata": {},
   "source": [
    "With these simple request-based rules, we can identify 757K bots. Let's see now if we can combine request based and client based detection"
   ]
  },
  {
   "cell_type": "markdown",
   "metadata": {},
   "source": [
    "# Saving to parquet file"
   ]
  },
  {
   "cell_type": "code",
   "execution_count": 188,
   "metadata": {
    "ExecuteTime": {
     "end_time": "2020-03-19T04:14:00.179966Z",
     "start_time": "2020-03-19T04:13:33.196292Z"
    }
   },
   "outputs": [],
   "source": [
    "file_path = (ROOT_PATH / \"data\" / \"processed\" /\"labeled_df\").__str__()\n",
    "labeled_df.write.mode(\"overwrite\").parquet(file_path)"
   ]
  }
 ],
 "metadata": {
  "kernelspec": {
   "display_name": "Python 3",
   "language": "python",
   "name": "python3"
  },
  "language_info": {
   "codemirror_mode": {
    "name": "ipython",
    "version": 3
   },
   "file_extension": ".py",
   "mimetype": "text/x-python",
   "name": "python",
   "nbconvert_exporter": "python",
   "pygments_lexer": "ipython3",
   "version": "3.6.9"
  },
  "toc": {
   "base_numbering": 1,
   "nav_menu": {},
   "number_sections": false,
   "sideBar": true,
   "skip_h1_title": false,
   "title_cell": "Table of Contents",
   "title_sidebar": "Contents",
   "toc_cell": false,
   "toc_position": {
    "height": "106.717px",
    "left": "21px",
    "top": "111.133px",
    "width": "184.9px"
   },
   "toc_section_display": true,
   "toc_window_display": true
  },
  "varInspector": {
   "cols": {
    "lenName": 16,
    "lenType": 16,
    "lenVar": 40
   },
   "kernels_config": {
    "python": {
     "delete_cmd_postfix": "",
     "delete_cmd_prefix": "del ",
     "library": "var_list.py",
     "varRefreshCmd": "print(var_dic_list())"
    },
    "r": {
     "delete_cmd_postfix": ") ",
     "delete_cmd_prefix": "rm(",
     "library": "var_list.r",
     "varRefreshCmd": "cat(var_dic_list()) "
    }
   },
   "types_to_exclude": [
    "module",
    "function",
    "builtin_function_or_method",
    "instance",
    "_Feature"
   ],
   "window_display": false
  }
 },
 "nbformat": 4,
 "nbformat_minor": 2
}
