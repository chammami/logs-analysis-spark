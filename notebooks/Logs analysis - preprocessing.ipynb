{
 "cells": [
  {
   "cell_type": "markdown",
   "metadata": {},
   "source": [
    "# Logs analysis - Data Pre-processing\n",
    "by Chihebeddine H., data scientist"
   ]
  },
  {
   "cell_type": "markdown",
   "metadata": {
    "ExecuteTime": {
     "end_time": "2020-03-14T00:18:26.201651Z",
     "start_time": "2020-03-14T00:18:26.198576Z"
    }
   },
   "source": [
    "# Setup"
   ]
  },
  {
   "cell_type": "code",
   "execution_count": 1,
   "metadata": {
    "ExecuteTime": {
     "end_time": "2020-03-18T21:44:44.333664Z",
     "start_time": "2020-03-18T21:44:39.296417Z"
    }
   },
   "outputs": [],
   "source": [
    "# Data wrangling - Spark\n",
    "from pyspark.sql.functions import udf, col, regexp_extract, regexp_replace, to_date\n",
    "from pyspark.sql.types import IntegerType, TimestampType\n",
    "from pyspark.sql import functions as F\n",
    "from pyspark.sql import SparkSession\n",
    "\n",
    "\n",
    "# Data wrangling - Python\n",
    "import pandas as pd\n",
    "import re\n",
    "import numpy as np\n",
    "\n",
    "# Sys\n",
    "import gc\n",
    "import os\n",
    "from pathlib import Path\n",
    "import datetime as dt\n",
    "import pytz\n",
    "import shutil\n",
    "\n",
    "# Data Viz\n",
    "import seaborn as sns\n",
    "import matplotlib.pyplot as plt\n",
    "\n",
    "%matplotlib inline"
   ]
  },
  {
   "cell_type": "code",
   "execution_count": 2,
   "metadata": {
    "ExecuteTime": {
     "end_time": "2020-03-18T21:44:46.437321Z",
     "start_time": "2020-03-18T21:44:46.432561Z"
    }
   },
   "outputs": [],
   "source": [
    "ROOT_PATH = Path(\"..\")\n",
    "file_path = ROOT_PATH/\"data\"/\"raw\"/\"access.log\""
   ]
  },
  {
   "cell_type": "markdown",
   "metadata": {},
   "source": [
    "# Introduction\n",
    "\n",
    "Given the increasing importance of online presence for companies and individual alike, the mission of protecting companies in the cyber-space against harmful bots is crucial. This challenge is proposed to work on a sample of real word log files to come up with innovative bot detection solutions. Log files are typically semi-structured massive data source that are produced by web servers upon a client request. They represent a wealth of information that can be leveraged to offer new services and protect companies, know better its clients and offer new services."
   ]
  },
  {
   "cell_type": "markdown",
   "metadata": {},
   "source": [
    "# Challenge objective\n",
    "The objective of this challenge, is to build a scalable log processing pipeline to identify bots. Bots can be either good such as Web crawlers to keep web indexing up to date or harmful such as credentials stuffing bots using SQL injections."
   ]
  },
  {
   "cell_type": "markdown",
   "metadata": {
    "ExecuteTime": {
     "end_time": "2020-03-18T20:47:59.619205Z",
     "start_time": "2020-03-18T20:47:59.616740Z"
    }
   },
   "source": [
    "# Pipeline overview"
   ]
  },
  {
   "cell_type": "markdown",
   "metadata": {
    "ExecuteTime": {
     "end_time": "2020-03-18T20:47:16.846501Z",
     "start_time": "2020-03-18T20:47:16.699198Z"
    }
   },
   "source": [
    "![My solution](../docs/figs/data_pipeline.png)"
   ]
  },
  {
   "cell_type": "markdown",
   "metadata": {},
   "source": [
    "__Tech choice: I choose Spark as my main processing framework because my data pipeline can be easily scalable to larger data sets with minimal changes.__"
   ]
  },
  {
   "cell_type": "code",
   "execution_count": 9,
   "metadata": {
    "ExecuteTime": {
     "end_time": "2020-03-18T21:04:18.198569Z",
     "start_time": "2020-03-18T21:04:18.193513Z"
    }
   },
   "outputs": [
    {
     "data": {
      "text/html": [
       "\n",
       "            <div>\n",
       "                <p><b>SparkSession - hive</b></p>\n",
       "                \n",
       "        <div>\n",
       "            <p><b>SparkContext</b></p>\n",
       "\n",
       "            <p><a href=\"http://192.168.1.14:4042\">Spark UI</a></p>\n",
       "\n",
       "            <dl>\n",
       "              <dt>Version</dt>\n",
       "                <dd><code>v2.4.5</code></dd>\n",
       "              <dt>Master</dt>\n",
       "                <dd><code>local[8]</code></dd>\n",
       "              <dt>AppName</dt>\n",
       "                <dd><code>PySparkShell</code></dd>\n",
       "            </dl>\n",
       "        </div>\n",
       "        \n",
       "            </div>\n",
       "        "
      ],
      "text/plain": [
       "<pyspark.sql.session.SparkSession at 0x7f7a64a53390>"
      ]
     },
     "execution_count": 9,
     "metadata": {},
     "output_type": "execute_result"
    }
   ],
   "source": [
    "# Accessing Spark UI to monitor and manage jobs\n",
    "spark"
   ]
  },
  {
   "cell_type": "markdown",
   "metadata": {},
   "source": [
    "# Getting data"
   ]
  },
  {
   "cell_type": "code",
   "execution_count": 10,
   "metadata": {
    "ExecuteTime": {
     "end_time": "2020-03-18T21:04:21.176073Z",
     "start_time": "2020-03-18T21:04:21.173717Z"
    }
   },
   "outputs": [],
   "source": [
    "## Uncomment to download data\n",
    "# ! wget -P ../data/raw http://www.almhuette-raith.at/apache-log/access.log "
   ]
  },
  {
   "cell_type": "markdown",
   "metadata": {},
   "source": [
    "# Parsing log data"
   ]
  },
  {
   "cell_type": "code",
   "execution_count": 3,
   "metadata": {
    "ExecuteTime": {
     "end_time": "2020-03-18T21:44:54.878485Z",
     "start_time": "2020-03-18T21:44:52.320180Z"
    }
   },
   "outputs": [],
   "source": [
    "raw_logs = spark.read.text(file_path.__str__())"
   ]
  },
  {
   "cell_type": "code",
   "execution_count": 4,
   "metadata": {
    "ExecuteTime": {
     "end_time": "2020-03-18T21:27:25.067089Z",
     "start_time": "2020-03-18T21:27:21.219924Z"
    }
   },
   "outputs": [
    {
     "name": "stdout",
     "output_type": "stream",
     "text": [
      "root\n",
      " |-- value: string (nullable = true)\n",
      "\n",
      "Dataset size: 5015809 rows and 1 column\n"
     ]
    }
   ],
   "source": [
    "# Basic infos\n",
    "raw_logs.printSchema()\n",
    "n, p = raw_logs.count(), len(raw_logs.columns)\n",
    "print(f\"Dataset size: {n} rows and {p} column\")"
   ]
  },
  {
   "cell_type": "code",
   "execution_count": 13,
   "metadata": {
    "ExecuteTime": {
     "end_time": "2020-03-18T21:04:56.385880Z",
     "start_time": "2020-03-18T21:04:55.794511Z"
    }
   },
   "outputs": [
    {
     "name": "stdout",
     "output_type": "stream",
     "text": [
      " \n",
      "\n",
      "109.169.248.247 - - [12/Dec/2015:18:25:11 +0100] \"GET /administrator/ HTTP/1.1\" 200 4263 \"-\" \"Mozilla/5.0 (Windows NT 6.0; rv:34.0) Gecko/20100101 Firefox/34.0\" \"-\" \n",
      "\n",
      "109.169.248.247 - - [12/Dec/2015:18:25:11 +0100] \"POST /administrator/index.php HTTP/1.1\" 200 4494 \"http://almhuette-raith.at/administrator/\" \"Mozilla/5.0 (Windows NT 6.0; rv:34.0) Gecko/20100101 Firefox/34.0\" \"-\" \n",
      "\n",
      "46.72.177.4 - - [12/Dec/2015:18:31:08 +0100] \"GET /administrator/ HTTP/1.1\" 200 4263 \"-\" \"Mozilla/5.0 (Windows NT 6.0; rv:34.0) Gecko/20100101 Firefox/34.0\" \"-\" \n",
      "\n",
      "46.72.177.4 - - [12/Dec/2015:18:31:08 +0100] \"POST /administrator/index.php HTTP/1.1\" 200 4494 \"http://almhuette-raith.at/administrator/\" \"Mozilla/5.0 (Windows NT 6.0; rv:34.0) Gecko/20100101 Firefox/34.0\" \"-\" \n",
      "\n"
     ]
    }
   ],
   "source": [
    "# Example of logs\n",
    "logs_sample = [log[\"value\"] for log in raw_logs.take(5)]\n",
    "for log in logs_sample:\n",
    "    print(log, \"\\n\")"
   ]
  },
  {
   "cell_type": "markdown",
   "metadata": {},
   "source": [
    "The provided log file consist of raw server log semi-structed that follow certain conventions. These conventions were provided and in the links below and I used them through regular expression to parse raw logs and extract useful features structured in a tablular format file handy for Exploratory data nalysis (EDA) or Machine Learning:\n",
    "    * https://stackoverflow.com/questions/9234699/understanding-apaches-access-log\n",
    "    * https://httpd.apache.org/docs/current/logs.html#combined "
   ]
  },
  {
   "cell_type": "code",
   "execution_count": 4,
   "metadata": {
    "ExecuteTime": {
     "end_time": "2020-03-18T21:45:04.180646Z",
     "start_time": "2020-03-18T21:45:04.172456Z"
    }
   },
   "outputs": [],
   "source": [
    "def parse_logs(df):\n",
    "    \n",
    "    \"\"\"\n",
    "    Parse raw logs according to complete log naming convention\n",
    "    \n",
    "    Args:\n",
    "    df: Spark DataFrame - raw logs\n",
    "    \n",
    "    Returns:\n",
    "    parsed_df: Spark DataFrame: parsed logs\n",
    "    \"\"\"\n",
    "\n",
    "    patterns = {\n",
    "                \"ip_address\":\"^([\\S+\\.]+\\S+)\",\n",
    "                \"user_id\":\"^[\\S+\\.]+\\S+\\s+(\\S+)\\s+\",\n",
    "                \"user_name\": '\\s+(\\S+)\\s+\\[\\d+/\\w+/\\d+:\\d+:\\d+:\\d+\\s+[-+]?\\d+]',\n",
    "                \"datetime\": \"\\[(\\d+/\\w+/\\d+:\\d+:\\d+:\\d+\\s+[-+]?\\d+)]\",\n",
    "                \"request\": '\"([A-Z]+\\s+\\S+\\s+[A-Z]+\\S+)\"',\n",
    "                \"status_code\": '\\s+([2-5]{1}\\d{2})\\s+',\n",
    "                \"size\": '\\d+\\s+(\\d+)\\s+\\\"',\n",
    "                \"referer\": '\\d+\\s+\\d+\\s+\"(\\S+)\"',\n",
    "                \"user_agent\": '\"\\S+\"\\s+\"([\\S+\\s+]+\\S)\"\\s+\\S+$',\n",
    "                \"last\": '\\s\"(\\S+)\"$'\n",
    "               }\n",
    "    \n",
    "    parsed_df = df\n",
    "    for token_name in patterns:\n",
    "        parsed_df = parsed_df.withColumn(token_name, regexp_extract('value', patterns[token_name], 1))\n",
    "\n",
    "    return parsed_df"
   ]
  },
  {
   "cell_type": "code",
   "execution_count": 5,
   "metadata": {
    "ExecuteTime": {
     "end_time": "2020-03-18T21:45:10.386786Z",
     "start_time": "2020-03-18T21:45:04.985542Z"
    },
    "scrolled": true
   },
   "outputs": [
    {
     "name": "stdout",
     "output_type": "stream",
     "text": [
      "root\n",
      " |-- value: string (nullable = true)\n",
      " |-- ip_address: string (nullable = true)\n",
      " |-- user_id: string (nullable = true)\n",
      " |-- user_name: string (nullable = true)\n",
      " |-- datetime: string (nullable = true)\n",
      " |-- request: string (nullable = true)\n",
      " |-- status_code: string (nullable = true)\n",
      " |-- size: string (nullable = true)\n",
      " |-- referer: string (nullable = true)\n",
      " |-- user_agent: string (nullable = true)\n",
      " |-- last: string (nullable = true)\n",
      "\n",
      "Dataset size: 5015809 rows and 11 column\n"
     ]
    }
   ],
   "source": [
    "parsed_logs = parse_logs(raw_logs)\n",
    "parsed_logs.printSchema()\n",
    "print(f\"Dataset size: {parsed_logs.count()} rows and {len(parsed_logs.columns)} column\")"
   ]
  },
  {
   "cell_type": "markdown",
   "metadata": {},
   "source": [
    "# Check parsing"
   ]
  },
  {
   "cell_type": "markdown",
   "metadata": {},
   "source": [
    "The main log parts are now parsed, let's check parsing results:"
   ]
  },
  {
   "cell_type": "code",
   "execution_count": 16,
   "metadata": {
    "ExecuteTime": {
     "end_time": "2020-03-18T21:05:30.603695Z",
     "start_time": "2020-03-18T21:05:26.766064Z"
    }
   },
   "outputs": [
    {
     "data": {
      "text/html": [
       "<div>\n",
       "<style scoped>\n",
       "    .dataframe tbody tr th:only-of-type {\n",
       "        vertical-align: middle;\n",
       "    }\n",
       "\n",
       "    .dataframe tbody tr th {\n",
       "        vertical-align: top;\n",
       "    }\n",
       "\n",
       "    .dataframe thead th {\n",
       "        text-align: right;\n",
       "    }\n",
       "</style>\n",
       "<table border=\"1\" class=\"dataframe\">\n",
       "  <thead>\n",
       "    <tr style=\"text-align: right;\">\n",
       "      <th></th>\n",
       "      <th>0</th>\n",
       "      <th>1</th>\n",
       "      <th>2</th>\n",
       "      <th>3</th>\n",
       "      <th>4</th>\n",
       "    </tr>\n",
       "  </thead>\n",
       "  <tbody>\n",
       "    <tr>\n",
       "      <th>value</th>\n",
       "      <td></td>\n",
       "      <td>109.169.248.247 - - [12/Dec/2015:18:25:11 +010...</td>\n",
       "      <td>109.169.248.247 - - [12/Dec/2015:18:25:11 +010...</td>\n",
       "      <td>46.72.177.4 - - [12/Dec/2015:18:31:08 +0100] \"...</td>\n",
       "      <td>46.72.177.4 - - [12/Dec/2015:18:31:08 +0100] \"...</td>\n",
       "    </tr>\n",
       "    <tr>\n",
       "      <th>ip_address</th>\n",
       "      <td></td>\n",
       "      <td>109.169.248.247</td>\n",
       "      <td>109.169.248.247</td>\n",
       "      <td>46.72.177.4</td>\n",
       "      <td>46.72.177.4</td>\n",
       "    </tr>\n",
       "    <tr>\n",
       "      <th>user_id</th>\n",
       "      <td></td>\n",
       "      <td>-</td>\n",
       "      <td>-</td>\n",
       "      <td>-</td>\n",
       "      <td>-</td>\n",
       "    </tr>\n",
       "    <tr>\n",
       "      <th>user_name</th>\n",
       "      <td></td>\n",
       "      <td>-</td>\n",
       "      <td>-</td>\n",
       "      <td>-</td>\n",
       "      <td>-</td>\n",
       "    </tr>\n",
       "    <tr>\n",
       "      <th>datetime</th>\n",
       "      <td></td>\n",
       "      <td>12/Dec/2015:18:25:11 +0100</td>\n",
       "      <td>12/Dec/2015:18:25:11 +0100</td>\n",
       "      <td>12/Dec/2015:18:31:08 +0100</td>\n",
       "      <td>12/Dec/2015:18:31:08 +0100</td>\n",
       "    </tr>\n",
       "    <tr>\n",
       "      <th>request</th>\n",
       "      <td></td>\n",
       "      <td>GET /administrator/ HTTP/1.1</td>\n",
       "      <td>POST /administrator/index.php HTTP/1.1</td>\n",
       "      <td>GET /administrator/ HTTP/1.1</td>\n",
       "      <td>POST /administrator/index.php HTTP/1.1</td>\n",
       "    </tr>\n",
       "    <tr>\n",
       "      <th>status_code</th>\n",
       "      <td></td>\n",
       "      <td>200</td>\n",
       "      <td>200</td>\n",
       "      <td>200</td>\n",
       "      <td>200</td>\n",
       "    </tr>\n",
       "    <tr>\n",
       "      <th>size</th>\n",
       "      <td></td>\n",
       "      <td>4263</td>\n",
       "      <td>4494</td>\n",
       "      <td>4263</td>\n",
       "      <td>4494</td>\n",
       "    </tr>\n",
       "    <tr>\n",
       "      <th>referer</th>\n",
       "      <td></td>\n",
       "      <td>-</td>\n",
       "      <td>http://almhuette-raith.at/administrator/</td>\n",
       "      <td>-</td>\n",
       "      <td>http://almhuette-raith.at/administrator/</td>\n",
       "    </tr>\n",
       "    <tr>\n",
       "      <th>user_agent</th>\n",
       "      <td></td>\n",
       "      <td>Mozilla/5.0 (Windows NT 6.0; rv:34.0) Gecko/20...</td>\n",
       "      <td>Mozilla/5.0 (Windows NT 6.0; rv:34.0) Gecko/20...</td>\n",
       "      <td>Mozilla/5.0 (Windows NT 6.0; rv:34.0) Gecko/20...</td>\n",
       "      <td>Mozilla/5.0 (Windows NT 6.0; rv:34.0) Gecko/20...</td>\n",
       "    </tr>\n",
       "    <tr>\n",
       "      <th>last</th>\n",
       "      <td></td>\n",
       "      <td>-</td>\n",
       "      <td>-</td>\n",
       "      <td>-</td>\n",
       "      <td>-</td>\n",
       "    </tr>\n",
       "  </tbody>\n",
       "</table>\n",
       "</div>"
      ],
      "text/plain": [
       "            0                                                  1  \\\n",
       "value          109.169.248.247 - - [12/Dec/2015:18:25:11 +010...   \n",
       "ip_address                                       109.169.248.247   \n",
       "user_id                                                        -   \n",
       "user_name                                                      -   \n",
       "datetime                              12/Dec/2015:18:25:11 +0100   \n",
       "request                             GET /administrator/ HTTP/1.1   \n",
       "status_code                                                  200   \n",
       "size                                                        4263   \n",
       "referer                                                        -   \n",
       "user_agent     Mozilla/5.0 (Windows NT 6.0; rv:34.0) Gecko/20...   \n",
       "last                                                           -   \n",
       "\n",
       "                                                             2  \\\n",
       "value        109.169.248.247 - - [12/Dec/2015:18:25:11 +010...   \n",
       "ip_address                                     109.169.248.247   \n",
       "user_id                                                      -   \n",
       "user_name                                                    -   \n",
       "datetime                            12/Dec/2015:18:25:11 +0100   \n",
       "request                 POST /administrator/index.php HTTP/1.1   \n",
       "status_code                                                200   \n",
       "size                                                      4494   \n",
       "referer               http://almhuette-raith.at/administrator/   \n",
       "user_agent   Mozilla/5.0 (Windows NT 6.0; rv:34.0) Gecko/20...   \n",
       "last                                                         -   \n",
       "\n",
       "                                                             3  \\\n",
       "value        46.72.177.4 - - [12/Dec/2015:18:31:08 +0100] \"...   \n",
       "ip_address                                         46.72.177.4   \n",
       "user_id                                                      -   \n",
       "user_name                                                    -   \n",
       "datetime                            12/Dec/2015:18:31:08 +0100   \n",
       "request                           GET /administrator/ HTTP/1.1   \n",
       "status_code                                                200   \n",
       "size                                                      4263   \n",
       "referer                                                      -   \n",
       "user_agent   Mozilla/5.0 (Windows NT 6.0; rv:34.0) Gecko/20...   \n",
       "last                                                         -   \n",
       "\n",
       "                                                             4  \n",
       "value        46.72.177.4 - - [12/Dec/2015:18:31:08 +0100] \"...  \n",
       "ip_address                                         46.72.177.4  \n",
       "user_id                                                      -  \n",
       "user_name                                                    -  \n",
       "datetime                            12/Dec/2015:18:31:08 +0100  \n",
       "request                 POST /administrator/index.php HTTP/1.1  \n",
       "status_code                                                200  \n",
       "size                                                      4494  \n",
       "referer               http://almhuette-raith.at/administrator/  \n",
       "user_agent   Mozilla/5.0 (Windows NT 6.0; rv:34.0) Gecko/20...  \n",
       "last                                                         -  "
      ]
     },
     "execution_count": 16,
     "metadata": {},
     "output_type": "execute_result"
    }
   ],
   "source": [
    "sample = sc.parallelize(parsed_logs.take(5)).toDF().toPandas()\n",
    "sample.T"
   ]
  },
  {
   "cell_type": "code",
   "execution_count": 18,
   "metadata": {
    "ExecuteTime": {
     "end_time": "2020-03-18T21:05:50.381134Z",
     "start_time": "2020-03-18T21:05:50.356016Z"
    }
   },
   "outputs": [],
   "source": [
    "def check_parsing(df):\n",
    "\n",
    "    \"\"\"\n",
    "    Compute basic stats for parsed logs to check parsing for every extracted features\n",
    "    \n",
    "    Args:\n",
    "    df: Spark DataFrame - parsed logs\n",
    "    \n",
    "    Returns:\n",
    "    summary: Pandas DataFrame: basic statistics:\n",
    "        - unmatched: number of unmatched string for <feature> pattern\n",
    "        - n_uniques: Number of unique values\n",
    "        - F.agg_fun(length): agg.func applied to length of extracted strings\n",
    "    \"\"\"\n",
    "    \n",
    "    features = [feature for feature, _ in df.drop(\"value\").dtypes]\n",
    "    types = [feat_type for _, feat_type in df.drop(\"value\").dtypes]\n",
    "    \n",
    "    summary = {\"type\":[],\n",
    "               \"n_unmatched\":[],\n",
    "               \"n_uniques\":[],\n",
    "               \"n_missing\":[],\n",
    "               \"min(length)\":[],\n",
    "               \"avg(length)\":[],\n",
    "               \"max(length)\":[],\n",
    "               \"stddev_samp(length)\":[],\n",
    "              }\n",
    "    summary = pd.DataFrame(summary)    \n",
    "    len_udf = udf(lambda x: len(x), IntegerType())\n",
    "    null_udf = udf(lambda x: None if x in (\"\",\"-\",'\"-\"') else x)\n",
    "    \n",
    "    agg_funcs = (F.min(\"length\"),F.avg(\"length\"), F.max(\"length\"),F.stddev(\"length\"))\n",
    "    \n",
    "    for feature in features:\n",
    "        \n",
    "        summary.loc[feature,'n_unmatched'] = df.select(feature).where(col(feature)==\"\").count()\n",
    "        summary.loc[feature,'n_uniques'] = df.select(feature).dropDuplicates().count()\n",
    "        summary.loc[feature,'n_missing'] = df.select(feature).withColumn(feature, null_udf(feature)).\\\n",
    "                                            where(col(feature).isNull()).count()\n",
    "        values = df.select(len_udf(feature).alias(\"length\")).agg(*agg_funcs).collect()[0]\n",
    "        summary.loc[feature,\"min(length)\"] = values[\"min(length)\"]\n",
    "        summary.loc[feature,\"avg(length)\"] = values[\"avg(length)\"]\n",
    "        summary.loc[feature,\"max(length)\"] = values[\"max(length)\"]\n",
    "        summary.loc[feature,\"stddev_samp(length)\"] = values[\"stddev_samp(length)\"]\n",
    "\n",
    "        \n",
    "        \n",
    "    summary[\"type\"] = types\n",
    "\n",
    "    return summary"
   ]
  },
  {
   "cell_type": "code",
   "execution_count": 19,
   "metadata": {
    "ExecuteTime": {
     "end_time": "2020-03-18T21:12:54.483851Z",
     "start_time": "2020-03-18T21:05:50.807816Z"
    }
   },
   "outputs": [
    {
     "data": {
      "text/html": [
       "<div>\n",
       "<style scoped>\n",
       "    .dataframe tbody tr th:only-of-type {\n",
       "        vertical-align: middle;\n",
       "    }\n",
       "\n",
       "    .dataframe tbody tr th {\n",
       "        vertical-align: top;\n",
       "    }\n",
       "\n",
       "    .dataframe thead th {\n",
       "        text-align: right;\n",
       "    }\n",
       "</style>\n",
       "<table border=\"1\" class=\"dataframe\">\n",
       "  <thead>\n",
       "    <tr style=\"text-align: right;\">\n",
       "      <th></th>\n",
       "      <th>type</th>\n",
       "      <th>n_unmatched</th>\n",
       "      <th>n_uniques</th>\n",
       "      <th>n_missing</th>\n",
       "      <th>min(length)</th>\n",
       "      <th>avg(length)</th>\n",
       "      <th>max(length)</th>\n",
       "      <th>stddev_samp(length)</th>\n",
       "    </tr>\n",
       "  </thead>\n",
       "  <tbody>\n",
       "    <tr>\n",
       "      <th>ip_address</th>\n",
       "      <td>string</td>\n",
       "      <td>1.0</td>\n",
       "      <td>67706.0</td>\n",
       "      <td>1.0</td>\n",
       "      <td>0.0</td>\n",
       "      <td>12.810345</td>\n",
       "      <td>32.0</td>\n",
       "      <td>0.999150</td>\n",
       "    </tr>\n",
       "    <tr>\n",
       "      <th>user_id</th>\n",
       "      <td>string</td>\n",
       "      <td>1.0</td>\n",
       "      <td>2.0</td>\n",
       "      <td>5015809.0</td>\n",
       "      <td>0.0</td>\n",
       "      <td>1.000000</td>\n",
       "      <td>1.0</td>\n",
       "      <td>0.000447</td>\n",
       "    </tr>\n",
       "    <tr>\n",
       "      <th>user_name</th>\n",
       "      <td>string</td>\n",
       "      <td>1.0</td>\n",
       "      <td>77.0</td>\n",
       "      <td>5015657.0</td>\n",
       "      <td>0.0</td>\n",
       "      <td>1.000158</td>\n",
       "      <td>17.0</td>\n",
       "      <td>0.034410</td>\n",
       "    </tr>\n",
       "    <tr>\n",
       "      <th>datetime</th>\n",
       "      <td>string</td>\n",
       "      <td>1.0</td>\n",
       "      <td>1317607.0</td>\n",
       "      <td>1.0</td>\n",
       "      <td>0.0</td>\n",
       "      <td>25.999995</td>\n",
       "      <td>26.0</td>\n",
       "      <td>0.011609</td>\n",
       "    </tr>\n",
       "    <tr>\n",
       "      <th>request</th>\n",
       "      <td>string</td>\n",
       "      <td>108.0</td>\n",
       "      <td>225669.0</td>\n",
       "      <td>108.0</td>\n",
       "      <td>0.0</td>\n",
       "      <td>51.855074</td>\n",
       "      <td>6364.0</td>\n",
       "      <td>76.205967</td>\n",
       "    </tr>\n",
       "    <tr>\n",
       "      <th>status_code</th>\n",
       "      <td>string</td>\n",
       "      <td>1.0</td>\n",
       "      <td>16.0</td>\n",
       "      <td>1.0</td>\n",
       "      <td>0.0</td>\n",
       "      <td>2.999999</td>\n",
       "      <td>3.0</td>\n",
       "      <td>0.001340</td>\n",
       "    </tr>\n",
       "    <tr>\n",
       "      <th>size</th>\n",
       "      <td>string</td>\n",
       "      <td>8462.0</td>\n",
       "      <td>90428.0</td>\n",
       "      <td>8462.0</td>\n",
       "      <td>0.0</td>\n",
       "      <td>4.176431</td>\n",
       "      <td>10.0</td>\n",
       "      <td>0.960564</td>\n",
       "    </tr>\n",
       "    <tr>\n",
       "      <th>referer</th>\n",
       "      <td>string</td>\n",
       "      <td>9473.0</td>\n",
       "      <td>13933.0</td>\n",
       "      <td>2707413.0</td>\n",
       "      <td>0.0</td>\n",
       "      <td>21.961160</td>\n",
       "      <td>1561.0</td>\n",
       "      <td>26.950923</td>\n",
       "    </tr>\n",
       "    <tr>\n",
       "      <th>user_agent</th>\n",
       "      <td>string</td>\n",
       "      <td>489994.0</td>\n",
       "      <td>19293.0</td>\n",
       "      <td>489994.0</td>\n",
       "      <td>0.0</td>\n",
       "      <td>62.350385</td>\n",
       "      <td>6373.0</td>\n",
       "      <td>53.102748</td>\n",
       "    </tr>\n",
       "    <tr>\n",
       "      <th>last</th>\n",
       "      <td>string</td>\n",
       "      <td>1.0</td>\n",
       "      <td>2.0</td>\n",
       "      <td>5015809.0</td>\n",
       "      <td>0.0</td>\n",
       "      <td>1.000000</td>\n",
       "      <td>1.0</td>\n",
       "      <td>0.000447</td>\n",
       "    </tr>\n",
       "  </tbody>\n",
       "</table>\n",
       "</div>"
      ],
      "text/plain": [
       "               type  n_unmatched  n_uniques  n_missing  min(length)  \\\n",
       "ip_address   string          1.0    67706.0        1.0          0.0   \n",
       "user_id      string          1.0        2.0  5015809.0          0.0   \n",
       "user_name    string          1.0       77.0  5015657.0          0.0   \n",
       "datetime     string          1.0  1317607.0        1.0          0.0   \n",
       "request      string        108.0   225669.0      108.0          0.0   \n",
       "status_code  string          1.0       16.0        1.0          0.0   \n",
       "size         string       8462.0    90428.0     8462.0          0.0   \n",
       "referer      string       9473.0    13933.0  2707413.0          0.0   \n",
       "user_agent   string     489994.0    19293.0   489994.0          0.0   \n",
       "last         string          1.0        2.0  5015809.0          0.0   \n",
       "\n",
       "             avg(length)  max(length)  stddev_samp(length)  \n",
       "ip_address     12.810345         32.0             0.999150  \n",
       "user_id         1.000000          1.0             0.000447  \n",
       "user_name       1.000158         17.0             0.034410  \n",
       "datetime       25.999995         26.0             0.011609  \n",
       "request        51.855074       6364.0            76.205967  \n",
       "status_code     2.999999          3.0             0.001340  \n",
       "size            4.176431         10.0             0.960564  \n",
       "referer        21.961160       1561.0            26.950923  \n",
       "user_agent     62.350385       6373.0            53.102748  \n",
       "last            1.000000          1.0             0.000447  "
      ]
     },
     "execution_count": 19,
     "metadata": {},
     "output_type": "execute_result"
    }
   ],
   "source": [
    "parsing_stats = check_parsing(parsed_logs)\n",
    "parsing_stats"
   ]
  },
  {
   "cell_type": "code",
   "execution_count": 20,
   "metadata": {
    "ExecuteTime": {
     "end_time": "2020-03-18T21:13:19.374405Z",
     "start_time": "2020-03-18T21:13:18.898105Z"
    }
   },
   "outputs": [],
   "source": [
    "parsing_stats.to_csv(ROOT_PATH/\"data\"/\"raw\"/\"parsing_stats.csv\",index=True, sep=\";\")"
   ]
  },
  {
   "cell_type": "code",
   "execution_count": 22,
   "metadata": {
    "ExecuteTime": {
     "end_time": "2020-03-18T21:13:28.555114Z",
     "start_time": "2020-03-18T21:13:26.602905Z"
    }
   },
   "outputs": [
    {
     "data": {
      "image/png": "[encoded data removed]",
      "text/plain": [
       "<Figure size 576x432 with 1 Axes>"
      ]
     },
     "metadata": {
      "needs_background": "light"
     },
     "output_type": "display_data"
    }
   ],
   "source": [
    "data = (100/n)*parsing_stats.n_missing.sort_values()\n",
    "plt.figure(figsize=(8,6))\n",
    "plt.barh(y = data.index, width=data.values)\n",
    "plt.title(\"Percentage of missing values across log parts\")\n",
    "plt.xlabel(\"%\")\n",
    "plt.ylabel(\"Log part\")\n",
    "plt.show()"
   ]
  },
  {
   "cell_type": "markdown",
   "metadata": {},
   "source": [
    "__Comments__\n",
    "\n",
    "- ̀`ip_address`: IP address is well parsed with only one unmatched string (the 1st line of log file). There are 67706 unique IP address in this dataset, and average string length is consistent with IP convention except string length exceding  (3*4+3=15 for IPv4). After checking, it seems that there is a mix betwwen IP adresses and DNS naming for two logs that will be dropped.\n",
    "\n",
    "- The figure above shows that `user_id`, `user_name` and `last` are systematically missing. These features will be dropped from my analysis.\n",
    "\n",
    "- `referer` and `user_agent` are correctly parsed but are missing in 53.9% (resp. 9.7%) of cases. These features are important for detecting bot traffic and extracting other useful features.\n",
    "\n",
    "- The remaining features `status_code`, `size`, `request` and `datetime` are seldom missing in this log files. However, their data types have to be correctly casted in the next step.\n"
   ]
  },
  {
   "cell_type": "code",
   "execution_count": 7,
   "metadata": {
    "ExecuteTime": {
     "end_time": "2020-03-18T21:27:47.206551Z",
     "start_time": "2020-03-18T21:27:40.836300Z"
    }
   },
   "outputs": [
    {
     "data": {
      "text/plain": [
       "[Row(ip_address='217.216.115.198.dyn.user.ono.com', ip_address_len=32),\n",
       " Row(ip_address='217.216.115.198.dyn.user.ono.com', ip_address_len=32)]"
      ]
     },
     "execution_count": 7,
     "metadata": {},
     "output_type": "execute_result"
    }
   ],
   "source": [
    "len_udf = udf(lambda x: len(x), IntegerType())\n",
    "parsed_logs.\\\n",
    "    select(\"ip_address\").\\\n",
    "    withColumn(\"ip_address_len\", len_udf(col(\"ip_address\"))).\\\n",
    "    filter(col(\"ip_address_len\") > 15).\\\n",
    "    collect()"
   ]
  },
  {
   "cell_type": "markdown",
   "metadata": {},
   "source": [
    "# Data cleaning"
   ]
  },
  {
   "cell_type": "code",
   "execution_count": 107,
   "metadata": {
    "ExecuteTime": {
     "end_time": "2020-03-18T22:17:22.136135Z",
     "start_time": "2020-03-18T22:17:22.123467Z"
    }
   },
   "outputs": [],
   "source": [
    "def cast_utc(x):\n",
    "    \"\"\"\n",
    "    Convert a datetime string to a string repecting \n",
    "    Spark default timestamp format\n",
    "    \n",
    "    Args: str\n",
    "    Returns: str\n",
    "    \"\"\"\n",
    "    datetime_format = \"%d/%b/%Y:%H:%M:%S %z\"\n",
    "    local_dt = dt.datetime.strptime(x,datetime_format)\n",
    "    utc_dt = local_dt.astimezone(pytz.UTC)\n",
    "    utc_dt = utc_dt.strftime(\"%Y-%m-%d %H:%M:%S\")\n",
    "        \n",
    "    return utc_dt\n",
    "\n",
    "\n",
    "def clean_logs(df):\n",
    "    \n",
    "    \"\"\"\n",
    "    Clean parsed logs to drop unformative features, delete missing values\n",
    "    cast features to appropriate data types\n",
    "    \n",
    "    Args: \n",
    "    df: Spark DataFrame\n",
    "    \n",
    "    Returns:\n",
    "    clean_df: Spark DataFrame\n",
    "    \"\"\"\n",
    "\n",
    "    # Force empty strings to null for all features\n",
    "    null_udf = udf(lambda x: None if x in (\"\",\"-\",'\"-\"') else x)\n",
    "    cast_utc_udf = udf(lambda x: cast_utc(x))\n",
    "    len_udf = udf(lambda x: 0 if x is None else len(x), IntegerType())\n",
    "\n",
    "    clean_df = df\n",
    "    \n",
    "    # Drop Features:\n",
    "    clean_df = clean_df.drop(\"last\", \"user_name\", \"user_id\")\n",
    "\n",
    "    # Force empty strings to NULL\n",
    "    for feature in clean_df.columns:\n",
    "        clean_df = clean_df.withColumn(feature, null_udf(col(feature)))\n",
    "        \n",
    "    # Cast to appropriate data types\n",
    "    clean_df = clean_df.\\\n",
    "                filter(col(\"value\").isNotNull()).\\\n",
    "                drop(\"value\").\\\n",
    "                withColumn(\"size\", col(\"size\").cast(\"int\")).\\\n",
    "                withColumn(\"datetime_utc\", cast_utc_udf(\"datetime\").cast(\"timestamp\")).\\\n",
    "                withColumn(\"ip_address_len\", len_udf(\"ip_address\")).\\\n",
    "                filter(col(\"ip_address_len\") <= 15).\\\n",
    "                drop(\"ip_address_len\", \"datetime\")\n",
    "    \n",
    "\n",
    "    return clean_df\n",
    "    "
   ]
  },
  {
   "cell_type": "code",
   "execution_count": 108,
   "metadata": {
    "ExecuteTime": {
     "end_time": "2020-03-18T22:17:23.154308Z",
     "start_time": "2020-03-18T22:17:23.021070Z"
    }
   },
   "outputs": [],
   "source": [
    "cleaned_logs = clean_logs(parsed_logs)"
   ]
  },
  {
   "cell_type": "code",
   "execution_count": 109,
   "metadata": {
    "ExecuteTime": {
     "end_time": "2020-03-18T22:17:23.537754Z",
     "start_time": "2020-03-18T22:17:23.534329Z"
    }
   },
   "outputs": [
    {
     "name": "stdout",
     "output_type": "stream",
     "text": [
      "root\n",
      " |-- ip_address: string (nullable = true)\n",
      " |-- request: string (nullable = true)\n",
      " |-- status_code: string (nullable = true)\n",
      " |-- size: integer (nullable = true)\n",
      " |-- referer: string (nullable = true)\n",
      " |-- user_agent: string (nullable = true)\n",
      " |-- datetime_utc: timestamp (nullable = true)\n",
      "\n"
     ]
    }
   ],
   "source": [
    "cleaned_logs.printSchema()"
   ]
  },
  {
   "cell_type": "markdown",
   "metadata": {
    "ExecuteTime": {
     "end_time": "2020-03-18T21:15:26.092461Z",
     "start_time": "2020-03-18T21:15:26.085963Z"
    }
   },
   "source": [
    "Now that logs are parsed and checked, the next step is to drop uninformative features and instances, cast remaining ones to appropriate types such as:\n",
    "\n",
    "- `size` -> Integer\n",
    "- `datetime` -> UTC datetime\n",
    "\n",
    "__Checking time zones__\n",
    "\n",
    "Time zones of all logs are balanced between two main zones +1 UTC and +2 UTC)."
   ]
  },
  {
   "cell_type": "code",
   "execution_count": 112,
   "metadata": {
    "ExecuteTime": {
     "end_time": "2020-03-18T22:18:34.385590Z",
     "start_time": "2020-03-18T22:18:26.576418Z"
    }
   },
   "outputs": [
    {
     "data": {
      "text/html": [
       "<div>\n",
       "<style scoped>\n",
       "    .dataframe tbody tr th:only-of-type {\n",
       "        vertical-align: middle;\n",
       "    }\n",
       "\n",
       "    .dataframe tbody tr th {\n",
       "        vertical-align: top;\n",
       "    }\n",
       "\n",
       "    .dataframe thead th {\n",
       "        text-align: right;\n",
       "    }\n",
       "</style>\n",
       "<table border=\"1\" class=\"dataframe\">\n",
       "  <thead>\n",
       "    <tr style=\"text-align: right;\">\n",
       "      <th></th>\n",
       "      <th>time_zone</th>\n",
       "      <th>count</th>\n",
       "    </tr>\n",
       "  </thead>\n",
       "  <tbody>\n",
       "    <tr>\n",
       "      <th>0</th>\n",
       "      <td>+0200</td>\n",
       "      <td>2960514</td>\n",
       "    </tr>\n",
       "    <tr>\n",
       "      <th>1</th>\n",
       "      <td>+0100</td>\n",
       "      <td>2055294</td>\n",
       "    </tr>\n",
       "  </tbody>\n",
       "</table>\n",
       "</div>"
      ],
      "text/plain": [
       "  time_zone    count\n",
       "0     +0200  2960514\n",
       "1     +0100  2055294"
      ]
     },
     "execution_count": 112,
     "metadata": {},
     "output_type": "execute_result"
    }
   ],
   "source": [
    "time_zone_pattern = \"([-+]?\\d+$)\"\n",
    "parsed_logs.\\\n",
    "    select(\"datetime\").\\\n",
    "    withColumn(\"time_zone\", regexp_extract(col(\"datetime\"),time_zone_pattern,1)).\\\n",
    "    filter(col(\"time_zone\") != \"\").\\\n",
    "    groupBy(\"time_zone\").\\\n",
    "    count().\\\n",
    "    toPandas()"
   ]
  },
  {
   "cell_type": "markdown",
   "metadata": {},
   "source": [
    "# Save to Parquet file"
   ]
  },
  {
   "cell_type": "code",
   "execution_count": 113,
   "metadata": {
    "ExecuteTime": {
     "end_time": "2020-03-18T22:21:44.780092Z",
     "start_time": "2020-03-18T22:18:56.545647Z"
    }
   },
   "outputs": [],
   "source": [
    "file_path = (ROOT_PATH / \"data\" / \"processed\" /\"cleaned_logs\").__str__()\n",
    "cleaned_logs.write.mode(\"overwrite\").parquet(file_path)"
   ]
  },
  {
   "cell_type": "code",
   "execution_count": null,
   "metadata": {},
   "outputs": [],
   "source": []
  }
 ],
 "metadata": {
  "kernelspec": {
   "display_name": "Python 3",
   "language": "python",
   "name": "python3"
  },
  "language_info": {
   "codemirror_mode": {
    "name": "ipython",
    "version": 3
   },
   "file_extension": ".py",
   "mimetype": "text/x-python",
   "name": "python",
   "nbconvert_exporter": "python",
   "pygments_lexer": "ipython3",
   "version": "3.7.4"
  },
  "toc": {
   "base_numbering": 1,
   "nav_menu": {},
   "number_sections": false,
   "sideBar": true,
   "skip_h1_title": false,
   "title_cell": "Table of Contents",
   "title_sidebar": "Contents",
   "toc_cell": false,
   "toc_position": {},
   "toc_section_display": true,
   "toc_window_display": true
  },
  "varInspector": {
   "cols": {
    "lenName": 16,
    "lenType": 16,
    "lenVar": 40
   },
   "kernels_config": {
    "python": {
     "delete_cmd_postfix": "",
     "delete_cmd_prefix": "del ",
     "library": "var_list.py",
     "varRefreshCmd": "print(var_dic_list())"
    },
    "r": {
     "delete_cmd_postfix": ") ",
     "delete_cmd_prefix": "rm(",
     "library": "var_list.r",
     "varRefreshCmd": "cat(var_dic_list()) "
    }
   },
   "types_to_exclude": [
    "module",
    "function",
    "builtin_function_or_method",
    "instance",
    "_Feature"
   ],
   "window_display": false
  }
 },
 "nbformat": 4,
 "nbformat_minor": 2
}
