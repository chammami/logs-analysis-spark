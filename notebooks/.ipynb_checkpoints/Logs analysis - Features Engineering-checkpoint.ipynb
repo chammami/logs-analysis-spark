{
 "cells": [
  {
   "cell_type": "markdown",
   "metadata": {},
   "source": [
    "# Setup"
   ]
  },
  {
   "cell_type": "code",
   "execution_count": 216,
   "metadata": {
    "ExecuteTime": {
     "end_time": "2020-03-17T18:55:43.028014Z",
     "start_time": "2020-03-17T18:55:43.017787Z"
    }
   },
   "outputs": [],
   "source": [
    "# Data wrangling - Spark\n",
    "from pyspark.sql.functions import udf, col, regexp_extract, regexp_replace, to_date, split, desc, asc\n",
    "from pyspark.sql.types import IntegerType, TimestampType, BooleanType\n",
    "from pyspark.sql import functions as F\n",
    "\n",
    "# Data wrangling - Python\n",
    "import pandas as pd\n",
    "import re\n",
    "import numpy as np\n",
    "\n",
    "# Parsing  user agents\n",
    "import user_agents\n",
    "\n",
    "# Sys\n",
    "import gc\n",
    "import os\n",
    "from pathlib import Path\n",
    "import datetime as dt\n",
    "import pytz\n",
    "\n",
    "# Data Viz\n",
    "import seaborn as sns\n",
    "import matplotlib.pyplot as plt\n",
    "\n",
    "%matplotlib inline"
   ]
  },
  {
   "cell_type": "code",
   "execution_count": 5,
   "metadata": {
    "ExecuteTime": {
     "end_time": "2020-03-17T10:34:00.063994Z",
     "start_time": "2020-03-17T10:34:00.056552Z"
    }
   },
   "outputs": [],
   "source": [
    "ROOT_PATH = Path(\"..\")\n",
    "file_path = ROOT_PATH /\"data\"/\"processed\"/\"cleaned_logs\""
   ]
  },
  {
   "cell_type": "code",
   "execution_count": 6,
   "metadata": {
    "ExecuteTime": {
     "end_time": "2020-03-17T10:34:00.615476Z",
     "start_time": "2020-03-17T10:34:00.608519Z"
    }
   },
   "outputs": [
    {
     "data": {
      "text/html": [
       "\n",
       "            <div>\n",
       "                <p><b>SparkSession - hive</b></p>\n",
       "                \n",
       "        <div>\n",
       "            <p><b>SparkContext</b></p>\n",
       "\n",
       "            <p><a href=\"http://192.168.1.14:4040\">Spark UI</a></p>\n",
       "\n",
       "            <dl>\n",
       "              <dt>Version</dt>\n",
       "                <dd><code>v2.4.5</code></dd>\n",
       "              <dt>Master</dt>\n",
       "                <dd><code>local[6]</code></dd>\n",
       "              <dt>AppName</dt>\n",
       "                <dd><code>PySparkShell</code></dd>\n",
       "            </dl>\n",
       "        </div>\n",
       "        \n",
       "            </div>\n",
       "        "
      ],
      "text/plain": [
       "<pyspark.sql.session.SparkSession at 0x7f5870b53410>"
      ]
     },
     "execution_count": 6,
     "metadata": {},
     "output_type": "execute_result"
    }
   ],
   "source": [
    "spark"
   ]
  },
  {
   "cell_type": "code",
   "execution_count": 54,
   "metadata": {
    "ExecuteTime": {
     "end_time": "2020-03-17T14:52:37.077072Z",
     "start_time": "2020-03-17T14:52:36.941859Z"
    }
   },
   "outputs": [],
   "source": [
    "basic_features = spark.read.parquet(file_path.__str__())"
   ]
  },
  {
   "cell_type": "code",
   "execution_count": 121,
   "metadata": {
    "ExecuteTime": {
     "end_time": "2020-03-17T16:14:37.798829Z",
     "start_time": "2020-03-17T16:14:37.707223Z"
    }
   },
   "outputs": [
    {
     "name": "stdout",
     "output_type": "stream",
     "text": [
      "root\n",
      " |-- ip_address: string (nullable = true)\n",
      " |-- request: string (nullable = true)\n",
      " |-- status_code: string (nullable = true)\n",
      " |-- size: integer (nullable = true)\n",
      " |-- referer: string (nullable = true)\n",
      " |-- user_agent: string (nullable = true)\n",
      " |-- datetime_utc: timestamp (nullable = true)\n",
      "\n",
      "Dataset size: 5015808 rows and 7 column\n"
     ]
    }
   ],
   "source": [
    "basic_features.printSchema()\n",
    "n,p = basic_features.count(), len(basic_features.columns)\n",
    "print(f\"Dataset size: {n} rows and {p} column\")"
   ]
  },
  {
   "cell_type": "code",
   "execution_count": 56,
   "metadata": {
    "ExecuteTime": {
     "end_time": "2020-03-17T14:52:43.224838Z",
     "start_time": "2020-03-17T14:52:42.558846Z"
    }
   },
   "outputs": [
    {
     "data": {
      "text/html": [
       "<div>\n",
       "<style scoped>\n",
       "    .dataframe tbody tr th:only-of-type {\n",
       "        vertical-align: middle;\n",
       "    }\n",
       "\n",
       "    .dataframe tbody tr th {\n",
       "        vertical-align: top;\n",
       "    }\n",
       "\n",
       "    .dataframe thead th {\n",
       "        text-align: right;\n",
       "    }\n",
       "</style>\n",
       "<table border=\"1\" class=\"dataframe\">\n",
       "  <thead>\n",
       "    <tr style=\"text-align: right;\">\n",
       "      <th></th>\n",
       "      <th>ip_address</th>\n",
       "      <th>request</th>\n",
       "      <th>status_code</th>\n",
       "      <th>size</th>\n",
       "      <th>referer</th>\n",
       "      <th>user_agent</th>\n",
       "      <th>datetime_utc</th>\n",
       "    </tr>\n",
       "  </thead>\n",
       "  <tbody>\n",
       "    <tr>\n",
       "      <th>0</th>\n",
       "      <td>40.77.194.135</td>\n",
       "      <td>GET /components/com_phocagallery/assets/js/sha...</td>\n",
       "      <td>200</td>\n",
       "      <td>155</td>\n",
       "      <td>None</td>\n",
       "      <td>Mozilla/5.0 (Windows NT 6.1; WOW64) AppleWebKi...</td>\n",
       "      <td>2018-08-31 06:56:17</td>\n",
       "    </tr>\n",
       "    <tr>\n",
       "      <th>1</th>\n",
       "      <td>40.77.194.135</td>\n",
       "      <td>GET /components/com_phocagallery/assets/js/sha...</td>\n",
       "      <td>200</td>\n",
       "      <td>237</td>\n",
       "      <td>None</td>\n",
       "      <td>Mozilla/5.0 (Windows NT 6.1; WOW64) AppleWebKi...</td>\n",
       "      <td>2018-08-31 06:56:18</td>\n",
       "    </tr>\n",
       "    <tr>\n",
       "      <th>2</th>\n",
       "      <td>87.170.58.187</td>\n",
       "      <td>GET / HTTP/1.1</td>\n",
       "      <td>200</td>\n",
       "      <td>10479</td>\n",
       "      <td>None</td>\n",
       "      <td>Mozilla/5.0 (iPhone; CPU iPhone OS 11_4_1 like...</td>\n",
       "      <td>2018-08-31 07:17:35</td>\n",
       "    </tr>\n",
       "    <tr>\n",
       "      <th>3</th>\n",
       "      <td>87.170.58.187</td>\n",
       "      <td>GET /modules/mod_bowslideshow/tmpl/css/bowslid...</td>\n",
       "      <td>200</td>\n",
       "      <td>1725</td>\n",
       "      <td>http://www.almhuette-raith.at/</td>\n",
       "      <td>Mozilla/5.0 (iPhone; CPU iPhone OS 11_4_1 like...</td>\n",
       "      <td>2018-08-31 07:17:35</td>\n",
       "    </tr>\n",
       "    <tr>\n",
       "      <th>4</th>\n",
       "      <td>87.170.58.187</td>\n",
       "      <td>GET /templates/jp_hotel/css/template.css HTTP/1.1</td>\n",
       "      <td>200</td>\n",
       "      <td>10004</td>\n",
       "      <td>http://www.almhuette-raith.at/</td>\n",
       "      <td>Mozilla/5.0 (iPhone; CPU iPhone OS 11_4_1 like...</td>\n",
       "      <td>2018-08-31 07:17:35</td>\n",
       "    </tr>\n",
       "  </tbody>\n",
       "</table>\n",
       "</div>"
      ],
      "text/plain": [
       "      ip_address                                            request  \\\n",
       "0  40.77.194.135  GET /components/com_phocagallery/assets/js/sha...   \n",
       "1  40.77.194.135  GET /components/com_phocagallery/assets/js/sha...   \n",
       "2  87.170.58.187                                     GET / HTTP/1.1   \n",
       "3  87.170.58.187  GET /modules/mod_bowslideshow/tmpl/css/bowslid...   \n",
       "4  87.170.58.187  GET /templates/jp_hotel/css/template.css HTTP/1.1   \n",
       "\n",
       "  status_code   size                         referer  \\\n",
       "0         200    155                            None   \n",
       "1         200    237                            None   \n",
       "2         200  10479                            None   \n",
       "3         200   1725  http://www.almhuette-raith.at/   \n",
       "4         200  10004  http://www.almhuette-raith.at/   \n",
       "\n",
       "                                          user_agent        datetime_utc  \n",
       "0  Mozilla/5.0 (Windows NT 6.1; WOW64) AppleWebKi... 2018-08-31 06:56:17  \n",
       "1  Mozilla/5.0 (Windows NT 6.1; WOW64) AppleWebKi... 2018-08-31 06:56:18  \n",
       "2  Mozilla/5.0 (iPhone; CPU iPhone OS 11_4_1 like... 2018-08-31 07:17:35  \n",
       "3  Mozilla/5.0 (iPhone; CPU iPhone OS 11_4_1 like... 2018-08-31 07:17:35  \n",
       "4  Mozilla/5.0 (iPhone; CPU iPhone OS 11_4_1 like... 2018-08-31 07:17:35  "
      ]
     },
     "execution_count": 56,
     "metadata": {},
     "output_type": "execute_result"
    }
   ],
   "source": [
    "sample = sc.parallelize(basic_features.take(5)).toDF().toPandas()\n",
    "sample"
   ]
  },
  {
   "cell_type": "markdown",
   "metadata": {},
   "source": [
    "# Data annotation"
   ]
  },
  {
   "cell_type": "markdown",
   "metadata": {},
   "source": [
    "How to flag a request as bot or not ?"
   ]
  },
  {
   "cell_type": "code",
   "execution_count": null,
   "metadata": {},
   "outputs": [],
   "source": []
  },
  {
   "cell_type": "markdown",
   "metadata": {},
   "source": [
    "# Feature engineering"
   ]
  },
  {
   "cell_type": "markdown",
   "metadata": {
    "ExecuteTime": {
     "end_time": "2020-03-17T11:02:39.157185Z",
     "start_time": "2020-03-17T11:02:39.151727Z"
    }
   },
   "source": [
    "On euseful library to feature engineering\n",
    "\n",
    "https://pypi.org/project/user-agents/\n",
    "\n",
    "user_agents is a Python library that provides an easy way to identify/detect devices like mobile phones, tablets and their capabilities by parsing (browser/HTTP) user agent strings. The goal is to reliably detect whether:\n",
    "\n",
    "- User agent is a mobile, tablet or PC based device\n",
    "- User agent has touch capabilities (has touch screen)\n",
    "\n",
    "Get basic features brower, os, device\n",
    "\n",
    "\n",
    "Extract Country, city, provider, VPN, .... from IP address\n"
   ]
  },
  {
   "cell_type": "code",
   "execution_count": 18,
   "metadata": {
    "ExecuteTime": {
     "end_time": "2020-03-17T11:03:00.434694Z",
     "start_time": "2020-03-17T11:03:00.431584Z"
    }
   },
   "outputs": [],
   "source": []
  },
  {
   "cell_type": "code",
   "execution_count": 20,
   "metadata": {
    "ExecuteTime": {
     "end_time": "2020-03-17T11:03:40.259753Z",
     "start_time": "2020-03-17T11:03:40.255930Z"
    }
   },
   "outputs": [],
   "source": [
    "user_agent = parse(sample.user_agent[0])"
   ]
  },
  {
   "cell_type": "code",
   "execution_count": 42,
   "metadata": {
    "ExecuteTime": {
     "end_time": "2020-03-17T12:10:49.504470Z",
     "start_time": "2020-03-17T12:10:49.498600Z"
    }
   },
   "outputs": [
    {
     "data": {
      "text/plain": [
       "(OperatingSystem(family='Windows', version=(7,), version_string='7'),\n",
       " Device(family='Spider', brand='Spider', model='Desktop'),\n",
       " Browser(family='BingPreview', version=(1, 0), version_string='1.0'))"
      ]
     },
     "execution_count": 42,
     "metadata": {},
     "output_type": "execute_result"
    }
   ],
   "source": [
    "user_agent.os, user_agent.device, user_agent.browser"
   ]
  },
  {
   "cell_type": "markdown",
   "metadata": {
    "ExecuteTime": {
     "end_time": "2020-03-17T11:41:02.518515Z",
     "start_time": "2020-03-17T11:41:02.513725Z"
    }
   },
   "source": [
    "These rules are extracted from my research on the topic based on the following ressrouces:\n",
    "\n",
    "- Research paper : Modeling a session-based bots' arrival processat a web server, by Suchacka et al. 2017\n",
    "\n",
    "- Machine learning and Security, by Freeman and Chio 2018\n",
    "\n",
    "\n",
    "The rules are divided into 2 categories: request based and session based rules.\n",
    "\n",
    "- Request based detection ordered by ease of detection:\n",
    "    - R1: Requesting the file robots.txt\n",
    "    - R2: Bot name declared in user agent\n",
    "    - R3: HTTP method HEAD\n",
    "    - R4: Requests with error status code 4** or 5**\n",
    "\n",
    "\n",
    "- Session based detection:\n",
    "    - Mean-time for page in session < 0.5s\n",
    "    - Empty referer of the first page in session\n",
    "    - All HTTP requests in a session are with empty referers\n",
    "    - Zero image to page ratio\n",
    "    - Sessions containing one request\n"
   ]
  },
  {
   "cell_type": "markdown",
   "metadata": {},
   "source": [
    "## Parsing HTTP requests:\n",
    "\n",
    "Adding HTTP method, URI and version"
   ]
  },
  {
   "cell_type": "code",
   "execution_count": 106,
   "metadata": {
    "ExecuteTime": {
     "end_time": "2020-03-17T16:02:34.965127Z",
     "start_time": "2020-03-17T16:02:34.826264Z"
    }
   },
   "outputs": [],
   "source": [
    "# Checking for robots.txt\n",
    "\n",
    "null_udf = udf(lambda x: None if x in (\"\",\"-\",'\"-\"') else x)\n",
    "\n",
    "# Parsing HTTP requests\n",
    "extra_features = basic_features.\\\n",
    "                    withColumn(\"request_parts\", split(col(\"request\"),\"\\s\")).\\\n",
    "                    withColumn(\"request_method\", col(\"request_parts\")[0]).\\\n",
    "                    withColumn(\"request_uri\", col(\"request_parts\")[1]).\\\n",
    "                    withColumn(\"http_version\", col(\"request_parts\")[2]).\\\n",
    "                    withColumn(\"request_file\", regexp_extract('request_uri', \"/([^/]+)$\", 1)).\\\n",
    "                    withColumn(\"request_file\", null_udf(\"request_file\")).\\\n",
    "                    fillna({'request_file': \"<NOFILE>\"}).\\\n",
    "                    drop(\"request_parts\")\n",
    "\n"
   ]
  },
  {
   "cell_type": "code",
   "execution_count": null,
   "metadata": {},
   "outputs": [],
   "source": [
    "extra_features.select"
   ]
  },
  {
   "cell_type": "code",
   "execution_count": 101,
   "metadata": {
    "ExecuteTime": {
     "end_time": "2020-03-17T15:58:10.435994Z",
     "start_time": "2020-03-17T15:58:10.430428Z"
    }
   },
   "outputs": [
    {
     "name": "stdout",
     "output_type": "stream",
     "text": [
      "root\n",
      " |-- ip_address: string (nullable = true)\n",
      " |-- request: string (nullable = true)\n",
      " |-- status_code: string (nullable = true)\n",
      " |-- size: integer (nullable = true)\n",
      " |-- referer: string (nullable = true)\n",
      " |-- user_agent: string (nullable = true)\n",
      " |-- datetime_utc: timestamp (nullable = true)\n",
      " |-- request_method: string (nullable = true)\n",
      " |-- request_uri: string (nullable = true)\n",
      " |-- http_version: string (nullable = true)\n",
      " |-- request_file: string (nullable = false)\n",
      "\n"
     ]
    }
   ],
   "source": [
    "extra_features.printSchema()"
   ]
  },
  {
   "cell_type": "code",
   "execution_count": 86,
   "metadata": {
    "ExecuteTime": {
     "end_time": "2020-03-17T15:17:50.983140Z",
     "start_time": "2020-03-17T15:17:45.209636Z"
    }
   },
   "outputs": [],
   "source": [
    "data = extra_features.\\\n",
    "    groupBy(\"request_method\").\\\n",
    "    count().\\\n",
    "    sort(asc(\"count\")).\\\n",
    "    withColumnRenamed(\"count\",\"freq\").\\\n",
    "    toPandas()\n"
   ]
  },
  {
   "cell_type": "code",
   "execution_count": 88,
   "metadata": {
    "ExecuteTime": {
     "end_time": "2020-03-17T15:18:19.532490Z",
     "start_time": "2020-03-17T15:18:19.282398Z"
    }
   },
   "outputs": [
    {
     "data": {
      "image/png": "[encoded data removed]",
      "text/plain": [
       "<Figure size 576x432 with 1 Axes>"
      ]
     },
     "metadata": {
      "needs_background": "light"
     },
     "output_type": "display_data"
    }
   ],
   "source": [
    "plt.figure(figsize=(8,6))\n",
    "data.request_method = data.request_method.astype(str)\n",
    "plt.barh(y = data.request_method.values, width=data.freq.values)\n",
    "plt.title(\"HTTP method frequencies\")\n",
    "plt.xlabel(\"#\")\n",
    "plt.ylabel(\"HTTP method\")\n",
    "plt.show()"
   ]
  },
  {
   "cell_type": "code",
   "execution_count": 125,
   "metadata": {
    "ExecuteTime": {
     "end_time": "2020-03-17T16:16:55.495164Z",
     "start_time": "2020-03-17T16:16:46.604313Z"
    }
   },
   "outputs": [],
   "source": [
    "data = extra_features.\\\n",
    "    groupBy(\"request_file\").\\\n",
    "    count().\\\n",
    "    sort(desc(\"count\")).\\\n",
    "    withColumnRenamed(\"count\",\"freq\").\\\n",
    "    head(10)\n",
    "data = sc.parallelize(data).toDF().toPandas()"
   ]
  },
  {
   "cell_type": "code",
   "execution_count": 126,
   "metadata": {
    "ExecuteTime": {
     "end_time": "2020-03-17T16:16:56.036067Z",
     "start_time": "2020-03-17T16:16:55.775015Z"
    }
   },
   "outputs": [
    {
     "data": {
      "image/png": "[encoded data removed]",
      "text/plain": [
       "<Figure size 576x432 with 1 Axes>"
      ]
     },
     "metadata": {
      "needs_background": "light"
     },
     "output_type": "display_data"
    }
   ],
   "source": [
    "plt.figure(figsize=(8,6))\n",
    "data.request_file = data.request_file.astype(str)\n",
    "data = data.sort_values(by=\"freq\", ascending=True)\n",
    "traffic_fraction = np.round(100*data.freq.sum() / n,1)\n",
    "plt.barh(y = data.request_file.values, width=data.freq.values)\n",
    "plt.title(f\"Top 10 most requested files\\n{traffic_fraction} of server traffic%\")\n",
    "plt.xlabel(\"#\")\n",
    "plt.ylabel(\"File name\")\n",
    "plt.show()"
   ]
  },
  {
   "cell_type": "code",
   "execution_count": 142,
   "metadata": {
    "ExecuteTime": {
     "end_time": "2020-03-17T16:36:41.058753Z",
     "start_time": "2020-03-17T16:36:40.180651Z"
    }
   },
   "outputs": [],
   "source": [
    "data = extra_features.\\\n",
    "    groupBy(\"status_code\").\\\n",
    "    count().\\\n",
    "    sort(desc(\"count\")).\\\n",
    "    withColumnRenamed(\"count\",\"freq\").\\\n",
    "    toPandas()"
   ]
  },
  {
   "cell_type": "code",
   "execution_count": null,
   "metadata": {},
   "outputs": [],
   "source": [
    "xxx"
   ]
  },
  {
   "cell_type": "code",
   "execution_count": null,
   "metadata": {},
   "outputs": [],
   "source": [
    "x"
   ]
  },
  {
   "cell_type": "code",
   "execution_count": 143,
   "metadata": {
    "ExecuteTime": {
     "end_time": "2020-03-17T16:36:44.788452Z",
     "start_time": "2020-03-17T16:36:44.556749Z"
    }
   },
   "outputs": [
    {
     "data": {
      "image/png": "[encoded data removed]",
      "text/plain": [
       "<Figure size 432x288 with 1 Axes>"
      ]
     },
     "metadata": {
      "needs_background": "light"
     },
     "output_type": "display_data"
    }
   ],
   "source": [
    "plt.figure(figsize=(6,4))\n",
    "data.freq = (100/n)*data.freq\n",
    "data.status_code = data.status_code.astype(str)\n",
    "data = data.sort_values(by=\"freq\", ascending=True)\n",
    "plt.barh(y = data.status_code.values, width=data.freq.values)\n",
    "plt.title(\"Request status fequencies\")\n",
    "plt.xlabel(\"#\")\n",
    "plt.ylabel(\"Request code\")\n",
    "plt.show()"
   ]
  },
  {
   "cell_type": "markdown",
   "metadata": {},
   "source": [
    "__Comments__\n",
    "\n",
    "\n",
    "These informations are available here: https://httpstatuses.com/\n",
    "\n",
    "\n",
    "- 2XX correspond to HTTP request success (~87% of server requests)\n",
    "    - 200: OK. HTTP calls with 200 status code correspond to successful call.\n",
    "    - 206: HTTP calls with 206 status code correspond to successful partial retreiving of the content\n",
    "- 3XX correspond to redirection\n",
    "    - 303: SEE OTHERS. The server is redirecting the user agent to a different resource, as indicated by a URI in the Location header field, which is intended to provide an indirect response to the original request.\n",
    "    \n",
    "- 4XX client errors (~12% of server requests)\n",
    "    - 404: NOT FOUND. HTTP calls with 404 correspond not found resource in the server.\n"
   ]
  },
  {
   "cell_type": "markdown",
   "metadata": {},
   "source": [
    "## Parsing User agents"
   ]
  },
  {
   "cell_type": "markdown",
   "metadata": {},
   "source": [
    "User agent contains a wealth of information about client browser. To parse user agents efficiently and exhaustively, I will use Python excellent library user_agents. For more details, please check this link: https://pypi.org/project/user-agents/\n",
    "\n",
    "This library extract basic features such as device, OS and browser characteristics. Their sutructred as following:\n",
    "\n",
    "- Browser\n",
    "    -\n",
    "    -\n",
    "    -\n",
    "\n",
    "and some more advanced ones such as:\n",
    "- is_mobile: whether user agent is identified as a mobile phone (iPhone, Android phones, Blackberry, Windows Phone devices etc)\n",
    "- is_tablet: whether user agent is identified as a tablet device (iPad, Kindle Fire, Nexus 7 etc)\n",
    "- is_pc: whether user agent is identified to be running a traditional “desktop” OS (Windows, OS X, Linux)\n",
    "- is_touch_capable: whether user agent has touch capabilities\n",
    "- is_bot: whether user agent is a search engine crawler/spider listed in large list of identified bots such as YottaaMonitor, BrowserMob, HttpMonitor, YandexBot or Slurp\n"
   ]
  },
  {
   "cell_type": "code",
   "execution_count": 214,
   "metadata": {
    "ExecuteTime": {
     "end_time": "2020-03-17T18:54:25.346603Z",
     "start_time": "2020-03-17T18:54:25.201499Z"
    }
   },
   "outputs": [
    {
     "data": {
      "text/plain": [
       "['Mozilla/5.0 (Windows NT 6.1; WOW64) AppleWebKit/534+ (KHTML, like Gecko) BingPreview/1.0b',\n",
       " 'Mozilla/5.0 (Windows NT 6.1; WOW64) AppleWebKit/534+ (KHTML, like Gecko) BingPreview/1.0b',\n",
       " 'Mozilla/5.0 (iPhone; CPU iPhone OS 11_4_1 like Mac OS X) AppleWebKit/605.1.15 (KHTML, like Gecko) Version/11.0 Mobile/15E148 Safari/604.1']"
      ]
     },
     "execution_count": 214,
     "metadata": {},
     "output_type": "execute_result"
    }
   ],
   "source": [
    "uas = [ua[\"user_agent\"] for ua in extra_features.select(\"user_agent\").take(3)]\n",
    "uas"
   ]
  },
  {
   "cell_type": "code",
   "execution_count": 215,
   "metadata": {
    "ExecuteTime": {
     "end_time": "2020-03-17T18:54:38.670188Z",
     "start_time": "2020-03-17T18:54:38.663498Z"
    }
   },
   "outputs": [
    {
     "data": {
      "text/plain": [
       "[{'browser.family': 'BingPreview',\n",
       "  'browser.version_string': '1.0',\n",
       "  'os.family': 'Windows',\n",
       "  'os.version_string': '7',\n",
       "  'device.family': 'Spider',\n",
       "  'device.brand': 'Spider',\n",
       "  'device.model': 'Desktop',\n",
       "  'is_mobile': False,\n",
       "  'is_tablet': False,\n",
       "  'is_touch_capable': False,\n",
       "  'is_pc': True,\n",
       "  'is_bot': True},\n",
       " {'browser.family': 'BingPreview',\n",
       "  'browser.version_string': '1.0',\n",
       "  'os.family': 'Windows',\n",
       "  'os.version_string': '7',\n",
       "  'device.family': 'Spider',\n",
       "  'device.brand': 'Spider',\n",
       "  'device.model': 'Desktop',\n",
       "  'is_mobile': False,\n",
       "  'is_tablet': False,\n",
       "  'is_touch_capable': False,\n",
       "  'is_pc': True,\n",
       "  'is_bot': True},\n",
       " {'browser.family': 'Mobile Safari',\n",
       "  'browser.version_string': '11.0',\n",
       "  'os.family': 'iOS',\n",
       "  'os.version_string': '11.4.1',\n",
       "  'device.family': 'iPhone',\n",
       "  'device.brand': 'Apple',\n",
       "  'device.model': 'iPhone',\n",
       "  'is_mobile': True,\n",
       "  'is_tablet': False,\n",
       "  'is_touch_capable': True,\n",
       "  'is_pc': False,\n",
       "  'is_bot': False}]"
      ]
     },
     "execution_count": 215,
     "metadata": {},
     "output_type": "execute_result"
    }
   ],
   "source": [
    "parsed_uas = [UA(ua).parse() for ua in uas]\n",
    "parsed_uas"
   ]
  },
  {
   "cell_type": "code",
   "execution_count": 213,
   "metadata": {
    "ExecuteTime": {
     "end_time": "2020-03-17T18:53:38.247025Z",
     "start_time": "2020-03-17T18:53:38.238668Z"
    }
   },
   "outputs": [
    {
     "data": {
      "text/plain": [
       "[{'browser.family': 'BingPreview',\n",
       "  'browser.version_string': '1.0',\n",
       "  'os.family': 'Windows',\n",
       "  'os.version_string': '7',\n",
       "  'device.family': 'Spider',\n",
       "  'device.brand': 'Spider',\n",
       "  'device.model': 'Desktop',\n",
       "  'is_mobile': False,\n",
       "  'is_tablet': False,\n",
       "  'is_touch_capable': False,\n",
       "  'is_pc': True,\n",
       "  'is_bot': True},\n",
       " {'browser.family': 'BingPreview',\n",
       "  'browser.version_string': '1.0',\n",
       "  'os.family': 'Windows',\n",
       "  'os.version_string': '7',\n",
       "  'device.family': 'Spider',\n",
       "  'device.brand': 'Spider',\n",
       "  'device.model': 'Desktop',\n",
       "  'is_mobile': False,\n",
       "  'is_tablet': False,\n",
       "  'is_touch_capable': False,\n",
       "  'is_pc': True,\n",
       "  'is_bot': True},\n",
       " {'browser.family': 'Mobile Safari',\n",
       "  'browser.version_string': '11.0',\n",
       "  'os.family': 'iOS',\n",
       "  'os.version_string': '11.4.1',\n",
       "  'device.family': 'iPhone',\n",
       "  'device.brand': 'Apple',\n",
       "  'device.model': 'iPhone',\n",
       "  'is_mobile': True,\n",
       "  'is_tablet': False,\n",
       "  'is_touch_capable': True,\n",
       "  'is_pc': False,\n",
       "  'is_bot': False},\n",
       " {'browser.family': 'Mobile Safari',\n",
       "  'browser.version_string': '11.0',\n",
       "  'os.family': 'iOS',\n",
       "  'os.version_string': '11.4.1',\n",
       "  'device.family': 'iPhone',\n",
       "  'device.brand': 'Apple',\n",
       "  'device.model': 'iPhone',\n",
       "  'is_mobile': True,\n",
       "  'is_tablet': False,\n",
       "  'is_touch_capable': True,\n",
       "  'is_pc': False,\n",
       "  'is_bot': False},\n",
       " {'browser.family': 'Mobile Safari',\n",
       "  'browser.version_string': '11.0',\n",
       "  'os.family': 'iOS',\n",
       "  'os.version_string': '11.4.1',\n",
       "  'device.family': 'iPhone',\n",
       "  'device.brand': 'Apple',\n",
       "  'device.model': 'iPhone',\n",
       "  'is_mobile': True,\n",
       "  'is_tablet': False,\n",
       "  'is_touch_capable': True,\n",
       "  'is_pc': False,\n",
       "  'is_bot': False},\n",
       " {'browser.family': 'Mobile Safari',\n",
       "  'browser.version_string': '11.0',\n",
       "  'os.family': 'iOS',\n",
       "  'os.version_string': '11.4.1',\n",
       "  'device.family': 'iPhone',\n",
       "  'device.brand': 'Apple',\n",
       "  'device.model': 'iPhone',\n",
       "  'is_mobile': True,\n",
       "  'is_tablet': False,\n",
       "  'is_touch_capable': True,\n",
       "  'is_pc': False,\n",
       "  'is_bot': False},\n",
       " {'browser.family': 'Mobile Safari',\n",
       "  'browser.version_string': '11.0',\n",
       "  'os.family': 'iOS',\n",
       "  'os.version_string': '11.4.1',\n",
       "  'device.family': 'iPhone',\n",
       "  'device.brand': 'Apple',\n",
       "  'device.model': 'iPhone',\n",
       "  'is_mobile': True,\n",
       "  'is_tablet': False,\n",
       "  'is_touch_capable': True,\n",
       "  'is_pc': False,\n",
       "  'is_bot': False},\n",
       " {'browser.family': 'Mobile Safari',\n",
       "  'browser.version_string': '11.0',\n",
       "  'os.family': 'iOS',\n",
       "  'os.version_string': '11.4.1',\n",
       "  'device.family': 'iPhone',\n",
       "  'device.brand': 'Apple',\n",
       "  'device.model': 'iPhone',\n",
       "  'is_mobile': True,\n",
       "  'is_tablet': False,\n",
       "  'is_touch_capable': True,\n",
       "  'is_pc': False,\n",
       "  'is_bot': False},\n",
       " {'browser.family': 'Mobile Safari',\n",
       "  'browser.version_string': '11.0',\n",
       "  'os.family': 'iOS',\n",
       "  'os.version_string': '11.4.1',\n",
       "  'device.family': 'iPhone',\n",
       "  'device.brand': 'Apple',\n",
       "  'device.model': 'iPhone',\n",
       "  'is_mobile': True,\n",
       "  'is_tablet': False,\n",
       "  'is_touch_capable': True,\n",
       "  'is_pc': False,\n",
       "  'is_bot': False},\n",
       " {'browser.family': 'Mobile Safari',\n",
       "  'browser.version_string': '11.0',\n",
       "  'os.family': 'iOS',\n",
       "  'os.version_string': '11.4.1',\n",
       "  'device.family': 'iPhone',\n",
       "  'device.brand': 'Apple',\n",
       "  'device.model': 'iPhone',\n",
       "  'is_mobile': True,\n",
       "  'is_tablet': False,\n",
       "  'is_touch_capable': True,\n",
       "  'is_pc': False,\n",
       "  'is_bot': False}]"
      ]
     },
     "execution_count": 213,
     "metadata": {},
     "output_type": "execute_result"
    }
   ],
   "source": [
    "parsed_uas"
   ]
  },
  {
   "cell_type": "code",
   "execution_count": 210,
   "metadata": {
    "ExecuteTime": {
     "end_time": "2020-03-17T18:53:24.267179Z",
     "start_time": "2020-03-17T18:53:24.256420Z"
    }
   },
   "outputs": [],
   "source": [
    "class UA():\n",
    "    \n",
    "    def __init__(self,ua):\n",
    "        \n",
    "        self.ua_str = ua\n",
    "        # Extracted UA\n",
    "        self.ua_data = {}\n",
    "    \n",
    "    def parse(self):\n",
    "        \n",
    "        _ua = user_agents.parse(self.ua_str)\n",
    "        _data = {}\n",
    "\n",
    "        \n",
    "        # Accessing user agent's browser attributes\n",
    "        _data['browser.family'] = _ua.browser.family\n",
    "        _data['browser.version_string'] = _ua.browser.version_string\n",
    "\n",
    "        # Accessing user agent's operating system properties\n",
    "        _data['os.family'] = _ua.os.family\n",
    "        _data['os.version_string'] = _ua.os.version_string\n",
    "        \n",
    "        # Accessing user agent's device properties\n",
    "        _data['device.family'] = _ua.device.family\n",
    "        _data['device.brand'] = _ua.device.brand\n",
    "        _data['device.model'] = _ua.device.model\n",
    "        \n",
    "        # Extra attributes\n",
    "        _data[\"is_mobile\"] = _ua.is_mobile\n",
    "        _data[\"is_tablet\"] = _ua.is_tablet\n",
    "        _data[\"is_touch_capable\"] = _ua.is_touch_capable\n",
    "        _data[\"is_pc\"] = _ua.is_pc\n",
    "        _data[\"is_bot\"] = _ua.is_bot\n",
    "\n",
    "\n",
    "        self.ua_data = _data\n",
    "        return self.ua_data\n",
    "        \n",
    "    "
   ]
  },
  {
   "cell_type": "code",
   "execution_count": 207,
   "metadata": {
    "ExecuteTime": {
     "end_time": "2020-03-17T18:51:32.985672Z",
     "start_time": "2020-03-17T18:51:32.981260Z"
    }
   },
   "outputs": [
    {
     "data": {
      "text/plain": [
       "{'browser.family': 'BingPreview',\n",
       " 'browser.version_string': '1.0',\n",
       " 'os.family': 'Windows',\n",
       " 'os.version_string': '7',\n",
       " 'device.family': 'Spider',\n",
       " 'device.brand': 'Spider',\n",
       " 'device.model': 'Desktop',\n",
       " 'is_mobile': False,\n",
       " 'is_tablet': False,\n",
       " 'is_touch_capable': False,\n",
       " 'is_pc': True,\n",
       " 'is_bot': True}"
      ]
     },
     "execution_count": 207,
     "metadata": {},
     "output_type": "execute_result"
    }
   ],
   "source": [
    "sd = UA(uas[0])\n",
    "sd.parse()"
   ]
  },
  {
   "cell_type": "code",
   "execution_count": 164,
   "metadata": {
    "ExecuteTime": {
     "end_time": "2020-03-17T17:36:40.361007Z",
     "start_time": "2020-03-17T17:36:40.355961Z"
    }
   },
   "outputs": [
    {
     "data": {
      "text/plain": [
       "Browser(family='BingPreview', version=(1, 0), version_string='1.0')"
      ]
     },
     "execution_count": 164,
     "metadata": {},
     "output_type": "execute_result"
    }
   ],
   "source": [
    "parsed_uas[0].browser"
   ]
  },
  {
   "cell_type": "code",
   "execution_count": 165,
   "metadata": {
    "ExecuteTime": {
     "end_time": "2020-03-17T17:36:46.879906Z",
     "start_time": "2020-03-17T17:36:46.875426Z"
    }
   },
   "outputs": [
    {
     "data": {
      "text/plain": [
       "OperatingSystem(family='Windows', version=(7,), version_string='7')"
      ]
     },
     "execution_count": 165,
     "metadata": {},
     "output_type": "execute_result"
    }
   ],
   "source": [
    "parsed_uas[0].os"
   ]
  },
  {
   "cell_type": "code",
   "execution_count": null,
   "metadata": {},
   "outputs": [],
   "source": []
  }
 ],
 "metadata": {
  "kernelspec": {
   "display_name": "Python 3",
   "language": "python",
   "name": "python3"
  },
  "language_info": {
   "codemirror_mode": {
    "name": "ipython",
    "version": 3
   },
   "file_extension": ".py",
   "mimetype": "text/x-python",
   "name": "python",
   "nbconvert_exporter": "python",
   "pygments_lexer": "ipython3",
   "version": "3.7.4"
  },
  "toc": {
   "base_numbering": 1,
   "nav_menu": {},
   "number_sections": false,
   "sideBar": true,
   "skip_h1_title": false,
   "title_cell": "Table of Contents",
   "title_sidebar": "Contents",
   "toc_cell": false,
   "toc_position": {},
   "toc_section_display": true,
   "toc_window_display": true
  },
  "varInspector": {
   "cols": {
    "lenName": 16,
    "lenType": 16,
    "lenVar": 40
   },
   "kernels_config": {
    "python": {
     "delete_cmd_postfix": "",
     "delete_cmd_prefix": "del ",
     "library": "var_list.py",
     "varRefreshCmd": "print(var_dic_list())"
    },
    "r": {
     "delete_cmd_postfix": ") ",
     "delete_cmd_prefix": "rm(",
     "library": "var_list.r",
     "varRefreshCmd": "cat(var_dic_list()) "
    }
   },
   "types_to_exclude": [
    "module",
    "function",
    "builtin_function_or_method",
    "instance",
    "_Feature"
   ],
   "window_display": false
  }
 },
 "nbformat": 4,
 "nbformat_minor": 2
}
